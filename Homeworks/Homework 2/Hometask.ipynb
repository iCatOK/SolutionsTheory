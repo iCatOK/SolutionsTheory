{
 "metadata": {
  "language_info": {
   "codemirror_mode": {
    "name": "ipython",
    "version": 3
   },
   "file_extension": ".py",
   "mimetype": "text/x-python",
   "name": "python",
   "nbconvert_exporter": "python",
   "pygments_lexer": "ipython3",
   "version": "3.8.5-final"
  },
  "orig_nbformat": 2,
  "kernelspec": {
   "name": "Python 3.8.5 64-bit",
   "display_name": "Python 3.8.5 64-bit",
   "metadata": {
    "interpreter": {
     "hash": "c74d625a622eb7faed69d51549854ab07b21b89a52f349e19c6e417b21491d19"
    }
   }
  }
 },
 "nbformat": 4,
 "nbformat_minor": 2,
 "cells": [
  {
   "source": [
    "# Домашняя работа "
   ],
   "cell_type": "markdown",
   "metadata": {}
  },
  {
   "source": [
    "## Задание 1"
   ],
   "cell_type": "markdown",
   "metadata": {}
  },
  {
   "cell_type": "code",
   "execution_count": 14,
   "metadata": {},
   "outputs": [
    {
     "output_type": "execute_result",
     "data": {
      "text/plain": [
       "    timestamp    visit_id                                 url  region  \\\n",
       "0  1549980692  e3b0c44298  https://host.ru/3c19b4ef7371864fa3  Russia   \n",
       "1  1549980704  6e340b9cff  https://host.ru/c8d9213a31839f9a3a  Russia   \n",
       "2  1549980715  96a296d224  https://host.ru/b8b58337d272ee7b15  Russia   \n",
       "3  1549980725  709e80c884  https://host.ru/b8b58337d272ee7b15  Russia   \n",
       "4  1549980736  df3f619804  https://host.ru/b8b58337d272ee7b15  Russia   \n",
       "\n",
       "      user_id traffic_source  \n",
       "0  b1613cc09f         yandex  \n",
       "1  4c3ec14bee         direct  \n",
       "2  a8c40697fb         yandex  \n",
       "3  521ac1d6a0         yandex  \n",
       "4  d7323c571c         yandex  "
      ],
      "text/html": "<div>\n<style scoped>\n    .dataframe tbody tr th:only-of-type {\n        vertical-align: middle;\n    }\n\n    .dataframe tbody tr th {\n        vertical-align: top;\n    }\n\n    .dataframe thead th {\n        text-align: right;\n    }\n</style>\n<table border=\"1\" class=\"dataframe\">\n  <thead>\n    <tr style=\"text-align: right;\">\n      <th></th>\n      <th>timestamp</th>\n      <th>visit_id</th>\n      <th>url</th>\n      <th>region</th>\n      <th>user_id</th>\n      <th>traffic_source</th>\n    </tr>\n  </thead>\n  <tbody>\n    <tr>\n      <th>0</th>\n      <td>1549980692</td>\n      <td>e3b0c44298</td>\n      <td>https://host.ru/3c19b4ef7371864fa3</td>\n      <td>Russia</td>\n      <td>b1613cc09f</td>\n      <td>yandex</td>\n    </tr>\n    <tr>\n      <th>1</th>\n      <td>1549980704</td>\n      <td>6e340b9cff</td>\n      <td>https://host.ru/c8d9213a31839f9a3a</td>\n      <td>Russia</td>\n      <td>4c3ec14bee</td>\n      <td>direct</td>\n    </tr>\n    <tr>\n      <th>2</th>\n      <td>1549980715</td>\n      <td>96a296d224</td>\n      <td>https://host.ru/b8b58337d272ee7b15</td>\n      <td>Russia</td>\n      <td>a8c40697fb</td>\n      <td>yandex</td>\n    </tr>\n    <tr>\n      <th>3</th>\n      <td>1549980725</td>\n      <td>709e80c884</td>\n      <td>https://host.ru/b8b58337d272ee7b15</td>\n      <td>Russia</td>\n      <td>521ac1d6a0</td>\n      <td>yandex</td>\n    </tr>\n    <tr>\n      <th>4</th>\n      <td>1549980736</td>\n      <td>df3f619804</td>\n      <td>https://host.ru/b8b58337d272ee7b15</td>\n      <td>Russia</td>\n      <td>d7323c571c</td>\n      <td>yandex</td>\n    </tr>\n  </tbody>\n</table>\n</div>"
     },
     "metadata": {},
     "execution_count": 14
    }
   ],
   "source": [
    "import pandas as pd\n",
    "log = pd.read_csv('visit_log.csv', sep=';')\n",
    "log.head()"
   ]
  },
  {
   "cell_type": "code",
   "execution_count": 21,
   "metadata": {},
   "outputs": [
    {
     "output_type": "execute_result",
     "data": {
      "text/plain": [
       "    timestamp    visit_id                                 url  region  \\\n",
       "0  1549980692  e3b0c44298  https://host.ru/3c19b4ef7371864fa3  Russia   \n",
       "1  1549980704  6e340b9cff  https://host.ru/c8d9213a31839f9a3a  Russia   \n",
       "2  1549980715  96a296d224  https://host.ru/b8b58337d272ee7b15  Russia   \n",
       "3  1549980725  709e80c884  https://host.ru/b8b58337d272ee7b15  Russia   \n",
       "4  1549980736  df3f619804  https://host.ru/b8b58337d272ee7b15  Russia   \n",
       "\n",
       "      user_id traffic_source source_type  \n",
       "0  b1613cc09f         yandex     organic  \n",
       "1  4c3ec14bee         direct       other  \n",
       "2  a8c40697fb         yandex     organic  \n",
       "3  521ac1d6a0         yandex     organic  \n",
       "4  d7323c571c         yandex     organic  "
      ],
      "text/html": "<div>\n<style scoped>\n    .dataframe tbody tr th:only-of-type {\n        vertical-align: middle;\n    }\n\n    .dataframe tbody tr th {\n        vertical-align: top;\n    }\n\n    .dataframe thead th {\n        text-align: right;\n    }\n</style>\n<table border=\"1\" class=\"dataframe\">\n  <thead>\n    <tr style=\"text-align: right;\">\n      <th></th>\n      <th>timestamp</th>\n      <th>visit_id</th>\n      <th>url</th>\n      <th>region</th>\n      <th>user_id</th>\n      <th>traffic_source</th>\n      <th>source_type</th>\n    </tr>\n  </thead>\n  <tbody>\n    <tr>\n      <th>0</th>\n      <td>1549980692</td>\n      <td>e3b0c44298</td>\n      <td>https://host.ru/3c19b4ef7371864fa3</td>\n      <td>Russia</td>\n      <td>b1613cc09f</td>\n      <td>yandex</td>\n      <td>organic</td>\n    </tr>\n    <tr>\n      <th>1</th>\n      <td>1549980704</td>\n      <td>6e340b9cff</td>\n      <td>https://host.ru/c8d9213a31839f9a3a</td>\n      <td>Russia</td>\n      <td>4c3ec14bee</td>\n      <td>direct</td>\n      <td>other</td>\n    </tr>\n    <tr>\n      <th>2</th>\n      <td>1549980715</td>\n      <td>96a296d224</td>\n      <td>https://host.ru/b8b58337d272ee7b15</td>\n      <td>Russia</td>\n      <td>a8c40697fb</td>\n      <td>yandex</td>\n      <td>organic</td>\n    </tr>\n    <tr>\n      <th>3</th>\n      <td>1549980725</td>\n      <td>709e80c884</td>\n      <td>https://host.ru/b8b58337d272ee7b15</td>\n      <td>Russia</td>\n      <td>521ac1d6a0</td>\n      <td>yandex</td>\n      <td>organic</td>\n    </tr>\n    <tr>\n      <th>4</th>\n      <td>1549980736</td>\n      <td>df3f619804</td>\n      <td>https://host.ru/b8b58337d272ee7b15</td>\n      <td>Russia</td>\n      <td>d7323c571c</td>\n      <td>yandex</td>\n      <td>organic</td>\n    </tr>\n  </tbody>\n</table>\n</div>"
     },
     "metadata": {},
     "execution_count": 21
    }
   ],
   "source": [
    "log.loc[log.traffic_source.str.contains('yandex|google'), 'source_type'] = 'organic'\n",
    "log.loc[((log.traffic_source.isin(['paid','email'])) & (log.region == 'Russia')), 'source_type'] = 'ad'\n",
    "log.loc[((log.traffic_source.isin(['paid','email'])) & ~(log.region == 'Russia')), 'source_type'] = 'other'\n",
    "\n",
    "log.loc[pd.isnull(log.source_type), 'source_type'] = log['traffic_source']\n"
   ]
  },
  {
   "source": [
    "## Задание 2"
   ],
   "cell_type": "markdown",
   "metadata": {}
  },
  {
   "cell_type": "code",
   "execution_count": 28,
   "metadata": {},
   "outputs": [
    {
     "output_type": "execute_result",
     "data": {
      "text/plain": [
       "3     /politics/36188461-s-marta-zhizn-rossiyan-susc...\n",
       "4     /world/36007585-tramp-pridumal-kak-reshit-ukra...\n",
       "5     /science/36157853-nasa-sobiraet-ekstrennuyu-pr...\n",
       "6     /video/36001498-poyavilis-pervye-podrobnosti-g...\n",
       "7     /world/36007585-tramp-pridumal-kak-reshit-ukra...\n",
       "10    /middleeast/36131117-divizion-s-400-ne-zametil...\n",
       "11    /economics/36065674-rossiyane-vozmutilis-minim...\n",
       "12    /politics/36118047-otets-24-detey-potreboval-i...\n",
       "13    /travel/36194479-v-sheremetevo-passazhiry-ustr...\n",
       "14    /politics/35638742-nesolidno-mariya-zaharova-s...\n",
       "Name: url, dtype: object"
      ]
     },
     "metadata": {},
     "execution_count": 28
    }
   ],
   "source": [
    "url_df = pd.read_csv('URLs.txt')\n",
    "url_df.head()\n",
    "\n",
    "url_df.loc[url_df.url.str.contains(r\"\\/{1}\\d{8}\\-\"), 'url'].head(10)"
   ]
  },
  {
   "source": [
    "## Задание 3"
   ],
   "cell_type": "markdown",
   "metadata": {}
  },
  {
   "cell_type": "code",
   "execution_count": 20,
   "metadata": {},
   "outputs": [
    {
     "output_type": "execute_result",
     "data": {
      "text/plain": [
       "                 keyword   shows                        lemmas\n",
       "0    курс гривны к рублю  125076  курс   гривна   к   рубль \\n\n",
       "1        доллары в рубли  114173         доллар   в   рубль \\n\n",
       "2  100 долларов в рублях   97534   100   доллар   в   рубль \\n\n",
       "3             курс рубля   53546               курс   рубль \\n"
      ],
      "text/html": "<div>\n<style scoped>\n    .dataframe tbody tr th:only-of-type {\n        vertical-align: middle;\n    }\n\n    .dataframe tbody tr th {\n        vertical-align: top;\n    }\n\n    .dataframe thead th {\n        text-align: right;\n    }\n</style>\n<table border=\"1\" class=\"dataframe\">\n  <thead>\n    <tr style=\"text-align: right;\">\n      <th></th>\n      <th>keyword</th>\n      <th>shows</th>\n      <th>lemmas</th>\n    </tr>\n  </thead>\n  <tbody>\n    <tr>\n      <th>0</th>\n      <td>курс гривны к рублю</td>\n      <td>125076</td>\n      <td>курс   гривна   к   рубль \\n</td>\n    </tr>\n    <tr>\n      <th>1</th>\n      <td>доллары в рубли</td>\n      <td>114173</td>\n      <td>доллар   в   рубль \\n</td>\n    </tr>\n    <tr>\n      <th>2</th>\n      <td>100 долларов в рублях</td>\n      <td>97534</td>\n      <td>100   доллар   в   рубль \\n</td>\n    </tr>\n    <tr>\n      <th>3</th>\n      <td>курс рубля</td>\n      <td>53546</td>\n      <td>курс   рубль \\n</td>\n    </tr>\n  </tbody>\n</table>\n</div>"
     },
     "metadata": {},
     "execution_count": 20
    }
   ],
   "source": [
    "from pymystem3 import Mystem\n",
    "m = Mystem()\n",
    "\n",
    "data = pd.DataFrame({\n",
    "    'keyword': ['курс гривны к рублю', 'доллары в рубли', '100 долларов в рублях', 'курс рубля'],\n",
    "    'shows': [125076, 114173, 97534, 53546],\n",
    "})\n",
    "data['lemmas'] = data.apply(lambda row: ' '.join(m.lemmatize(row.keyword)), axis=1)\n",
    "data.head()"
   ]
  },
  {
   "cell_type": "code",
   "execution_count": null,
   "metadata": {},
   "outputs": [],
   "source": []
  }
 ]
}