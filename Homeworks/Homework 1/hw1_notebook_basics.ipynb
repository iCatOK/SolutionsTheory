{
  "nbformat": 4,
  "nbformat_minor": 0,
  "metadata": {
    "kernelspec": {
      "display_name": "Python 3",
      "language": "python",
      "name": "python3"
    },
    "language_info": {
      "codemirror_mode": {
        "name": "ipython",
        "version": 3
      },
      "file_extension": ".py",
      "mimetype": "text/x-python",
      "name": "python",
      "nbconvert_exporter": "python",
      "pygments_lexer": "ipython3",
      "version": "3.8.3"
    },
    "colab": {
      "name": "hw1_notebook_basics.ipynb",
      "provenance": [],
      "collapsed_sections": []
    }
  },
  "cells": [
    {
      "cell_type": "markdown",
      "metadata": {
        "id": "RFpl_BxAwbbY",
        "colab_type": "text"
      },
      "source": [
        "# Домашняя работа №1"
      ]
    },
    {
      "cell_type": "markdown",
      "metadata": {
        "id": "660efU2VwbbZ",
        "colab_type": "text"
      },
      "source": [
        "## Задание 1"
      ]
    },
    {
      "cell_type": "code",
      "metadata": {
        "id": "Oc5YGeSPwbbc",
        "colab_type": "code",
        "colab": {}
      },
      "source": [
        "def phrase(p1, p2):\n",
        "  if len(p1)>len(p2):\n",
        "      print('Первая фраза длиннее')\n",
        "  elif len(p1) < len(p2):\n",
        "      print('Вторая фраза длиннее')\n",
        "  else:\n",
        "      print('Длины фраз равны')"
      ],
      "execution_count": 1,
      "outputs": []
    },
    {
      "cell_type": "code",
      "metadata": {
        "id": "JLN4z5z5xd3W",
        "colab_type": "code",
        "colab": {
          "base_uri": "https://localhost:8080/",
          "height": 34
        },
        "outputId": "4974af68-6abb-4225-a271-b9bcdf598f11"
      },
      "source": [
        "p1 = 'Aaaa'\n",
        "p2 = 'Bb'\n",
        "phrase(p1, p2)"
      ],
      "execution_count": 8,
      "outputs": [
        {
          "output_type": "stream",
          "text": [
            "Первая фраза длиннее\n"
          ],
          "name": "stdout"
        }
      ]
    },
    {
      "cell_type": "code",
      "metadata": {
        "id": "tctIzwz2wbbZ",
        "colab_type": "code",
        "colab": {
          "base_uri": "https://localhost:8080/",
          "height": 34
        },
        "cellView": "both",
        "outputId": "a0aef0d4-94da-4d29-ce0f-aca28e047b26"
      },
      "source": [
        "#@title Введите две фразы\n",
        "p1 = \"2122\" #@param {type:\"string\"}\n",
        "p2 = \"222\" #@param {type:\"string\"}\n",
        "\n",
        "phrase(p1, p2)"
      ],
      "execution_count": 7,
      "outputs": [
        {
          "output_type": "stream",
          "text": [
            "Первая фраза длиннее\n"
          ],
          "name": "stdout"
        }
      ]
    },
    {
      "cell_type": "markdown",
      "metadata": {
        "id": "r9XY5oFKyWHz",
        "colab_type": "text"
      },
      "source": [
        "**Вы можете скрыть код формы, нажав на три точки рядом с корзиной в правом верхнем углу ячейки, потом Формы->Скрыть код**"
      ]
    },
    {
      "cell_type": "markdown",
      "metadata": {
        "id": "Wz0vhdJZwbbf",
        "colab_type": "text"
      },
      "source": [
        "## Задание 2"
      ]
    },
    {
      "cell_type": "code",
      "metadata": {
        "id": "BxLF3493wbbi",
        "colab_type": "code",
        "colab": {}
      },
      "source": [
        "def vis_year(year):\n",
        "  if year % 400 == 0:\n",
        "      print('Високосный')\n",
        "  elif year % 100 == 0:\n",
        "      print('Невисокосный')\n",
        "  elif year % 4 == 0:\n",
        "      print('Високосный')\n",
        "  else:\n",
        "      print('Невисокосный')"
      ],
      "execution_count": 10,
      "outputs": []
    },
    {
      "cell_type": "code",
      "metadata": {
        "id": "vrmLBT_9wbbg",
        "colab_type": "code",
        "colab": {
          "base_uri": "https://localhost:8080/",
          "height": 34
        },
        "cellView": "form",
        "outputId": "52b21ceb-c41e-4e85-dfcf-a10731d67956"
      },
      "source": [
        "#@title Введите год (показать код как в прошлый раз через три точки)\n",
        "year =  1999#@param {type:\"integer\"}\n",
        "\n",
        "vis_year(year)"
      ],
      "execution_count": 11,
      "outputs": [
        {
          "output_type": "stream",
          "text": [
            "Невисокосный\n"
          ],
          "name": "stdout"
        }
      ]
    },
    {
      "cell_type": "markdown",
      "metadata": {
        "id": "U0uZ-OHPwbbk",
        "colab_type": "text"
      },
      "source": [
        "## Задание 3"
      ]
    },
    {
      "cell_type": "code",
      "metadata": {
        "id": "zxs1EMWQwbbl",
        "colab_type": "code",
        "colab": {}
      },
      "source": [
        "\"\"\"\n",
        "Создание словаря с ключом-названием знака зодиака и значением-функцией, которая возвращает\n",
        "булевое(истина или ложь) значение в зависимости от введенных данных.\n",
        "\"\"\"\n",
        "\n",
        "zodiak_info = {\n",
        "    'Овен': lambda x, y: 21 <= x <= 31 and y == 'Март' or 1 <= x <= 19 and y == 'Апрель',\n",
        "    'Телец': lambda x, y: 20 <= x <= 30 and y == 'Апрель' or 1 <= x <= 20 and y == 'Май',\n",
        "    'Близнецы': lambda x, y: 21 <= x <= 31 and y == 'Май' or 1 <= x <= 20 and y == 'Июнь',\n",
        "    'Рак': lambda x, y: 21 <= x <= 30 and y == 'Июнь' or 1 <= x <= 22 and y == 'Июль',\n",
        "    'Лев': lambda x, y: 23 <= x <= 31 and y == 'Июль' or 1 <= x <= 22 and y == 'Август',\n",
        "    'Дева': lambda x, y: 23 <= x <= 31 and y == 'Август' or 1 <= x <= 22 and y == 'Сентябрь',\n",
        "    'Весы': lambda x, y: 23 <= x <= 30 and y == 'Сентябрь' or 1 <= x <= 22 and y == 'Октябрь', \n",
        "    'Скорпион': lambda x, y: 23 <= x <= 31 and y == 'Октябрь' or 1 <= x <= 21 and y == 'Ноябрь',\n",
        "    'Стрелец': lambda x, y: 22 <= x <= 30 and y == 'Ноябрь' or 1 <= x <= 21 and y == 'Декабрь',\n",
        "    'Козерог': lambda x, y: 22 <= x <= 31 and y == 'Декабрь' or 1 <= x <= 19 and y == 'Январь',\n",
        "    'Водолей': lambda x, y: 20 <= x <= 31 and y == 'Январь' or 1 <= x <= 18 and y == 'Февраль',\n",
        "    'Рыбы': lambda x, y: 19 <= x <= 29 and y == 'Февраль' or 1 <= x <= 20 and y == 'Март'\n",
        "}"
      ],
      "execution_count": 12,
      "outputs": []
    },
    {
      "cell_type": "code",
      "metadata": {
        "id": "NgTQrjhxwbbn",
        "colab_type": "code",
        "colab": {}
      },
      "source": [
        "def what_your_zodiak(day, month):\n",
        "  found = False\n",
        "\n",
        "  for zodiak in zodiak_info:\n",
        "      if zodiak_info[zodiak](day, month):\n",
        "          print(zodiak)\n",
        "          found = True\n",
        "          break\n",
        "          \n",
        "  if not found:\n",
        "      print('Ошибка ввода')"
      ],
      "execution_count": 15,
      "outputs": []
    },
    {
      "cell_type": "code",
      "metadata": {
        "id": "xgIPELvM0BXi",
        "colab_type": "code",
        "colab": {
          "base_uri": "https://localhost:8080/",
          "height": 34
        },
        "cellView": "form",
        "outputId": "98ab8b07-bfdb-407f-f8e3-447382c1f66a"
      },
      "source": [
        "#@title Введите день и месяц рождения:\n",
        "day =  26#@param {type:\"integer\"}\n",
        "month = \"\\u042F\\u043D\\u0432\\u0430\\u0440\\u044C\" #@param {type:\"string\"}\n",
        "what_your_zodiak(day, month)"
      ],
      "execution_count": 16,
      "outputs": [
        {
          "output_type": "stream",
          "text": [
            "Водолей\n"
          ],
          "name": "stdout"
        }
      ]
    },
    {
      "cell_type": "markdown",
      "metadata": {
        "id": "srC8jcgKwbbq",
        "colab_type": "text"
      },
      "source": [
        "## Задание 4 разбирали на паре (2-3 итерации if/elif)"
      ]
    },
    {
      "cell_type": "code",
      "metadata": {
        "id": "AXMsuFdNwbbq",
        "colab_type": "code",
        "colab": {}
      },
      "source": [
        ""
      ],
      "execution_count": null,
      "outputs": []
    },
    {
      "cell_type": "markdown",
      "metadata": {
        "id": "Hdzrgmi9wbbs",
        "colab_type": "text"
      },
      "source": [
        "## Задание 5"
      ]
    },
    {
      "cell_type": "code",
      "metadata": {
        "id": "2aho64ESwbb0",
        "colab_type": "code",
        "colab": {}
      },
      "source": [
        "def lucky_ticket(ticket_number):\n",
        "  numbers = list(map(int, str(ticket_number)))\n",
        "  print('Счастье') if sum(numbers[:3]) == sum(numbers[3:]) else print('Несчастье')"
      ],
      "execution_count": 29,
      "outputs": []
    },
    {
      "cell_type": "code",
      "metadata": {
        "id": "QOrPDjue3cAM",
        "colab_type": "code",
        "colab": {
          "base_uri": "https://localhost:8080/",
          "height": 34
        },
        "cellView": "form",
        "outputId": "0fdbca08-f340-4a51-b1e4-b618aef68369"
      },
      "source": [
        "#@title Введите номер билета:\n",
        "ticket_number =  123321#@param {type:\"integer\"}\n",
        "lucky_ticket(ticket_number)"
      ],
      "execution_count": 31,
      "outputs": [
        {
          "output_type": "stream",
          "text": [
            "Счастье\n"
          ],
          "name": "stdout"
        }
      ]
    },
    {
      "cell_type": "code",
      "metadata": {
        "colab_type": "code",
        "cellView": "form",
        "id": "GLl7rnto5PmD",
        "colab": {
          "base_uri": "https://localhost:8080/",
          "height": 34
        },
        "outputId": "9e9a59f3-287e-46ab-862b-f4ebde685ede"
      },
      "source": [
        "#@title Введите номер билета:\n",
        "ticket_number =  123344#@param {type:\"integer\"}\n",
        "lucky_ticket(ticket_number)"
      ],
      "execution_count": 32,
      "outputs": [
        {
          "output_type": "stream",
          "text": [
            "Несчастье\n"
          ],
          "name": "stdout"
        }
      ]
    },
    {
      "cell_type": "markdown",
      "metadata": {
        "id": "af_-ka0vwbb1",
        "colab_type": "text"
      },
      "source": [
        "## Задание 6"
      ]
    },
    {
      "cell_type": "markdown",
      "metadata": {
        "id": "dA2eJAOswbb2",
        "colab_type": "text"
      },
      "source": [
        "Треугольник"
      ]
    },
    {
      "cell_type": "code",
      "metadata": {
        "id": "89V7HHYbwbb2",
        "colab_type": "code",
        "colab": {}
      },
      "source": [
        "def triangle():\n",
        "    a = float(input('Введите сторону A: '))\n",
        "    b = float(input('Введите сторону B: '))\n",
        "    c = float(input('Введите сторону C: '))\n",
        "    p = (a + b + c) / 2\n",
        "    \n",
        "    return (p*(p-a)*(p-b)*(p-c))**0.5"
      ],
      "execution_count": 34,
      "outputs": []
    },
    {
      "cell_type": "markdown",
      "metadata": {
        "id": "bGHsKPOxwbb4",
        "colab_type": "text"
      },
      "source": [
        "Круг"
      ]
    },
    {
      "cell_type": "code",
      "metadata": {
        "id": "01pOTm19wbb5",
        "colab_type": "code",
        "colab": {}
      },
      "source": [
        "import math\n",
        "def circle():\n",
        "    R = float(input('Введите радиус R: '))\n",
        "    return math.pi * (R**2)"
      ],
      "execution_count": 35,
      "outputs": []
    },
    {
      "cell_type": "markdown",
      "metadata": {
        "id": "qFetoUUdwbb7",
        "colab_type": "text"
      },
      "source": [
        "Прямоугольник"
      ]
    },
    {
      "cell_type": "code",
      "metadata": {
        "id": "bdqIMP7fwbb7",
        "colab_type": "code",
        "colab": {}
      },
      "source": [
        "def rectangle():\n",
        "    a = float(input('Введите сторону А: '))\n",
        "    b = float(input('Введите сторону B: '))\n",
        "  \n",
        "    \n",
        "    return a*b"
      ],
      "execution_count": 36,
      "outputs": []
    },
    {
      "cell_type": "code",
      "metadata": {
        "id": "SZ3a9JUawbb9",
        "colab_type": "code",
        "colab": {}
      },
      "source": [
        "# сохраним функции в словарь (не забудьте их запустить все отдельно)\n",
        "figure_areas = {\n",
        "    'Круг': circle,\n",
        "    'Прямоугольник': rectangle,\n",
        "    'Треугольник': triangle\n",
        "}"
      ],
      "execution_count": 37,
      "outputs": []
    },
    {
      "cell_type": "code",
      "metadata": {
        "id": "sVJxuf2-wbb_",
        "colab_type": "code",
        "colab": {
          "base_uri": "https://localhost:8080/",
          "height": 67
        },
        "outputId": "b54b8b04-eeae-4e29-87e6-509168c410da"
      },
      "source": [
        "figure = input('Введите фигуру: ')\n",
        "try:\n",
        "    print('Площадь фигуры \"' + figure + '\": ' + str(figure_areas[figure]()))\n",
        "except Exception as e:\n",
        "    print('Ошибка ввода: ' + str(e))"
      ],
      "execution_count": 38,
      "outputs": [
        {
          "output_type": "stream",
          "text": [
            "Введите фигуру: Круг\n",
            "Введите радиус R: 5\n",
            "Площадь фигуры \"Круг\": 78.53981633974483\n"
          ],
          "name": "stdout"
        }
      ]
    },
    {
      "cell_type": "code",
      "metadata": {
        "id": "0hs0daqowbcB",
        "colab_type": "code",
        "colab": {}
      },
      "source": [
        ""
      ],
      "execution_count": null,
      "outputs": []
    }
  ]
}