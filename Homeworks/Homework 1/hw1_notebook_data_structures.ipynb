{
  "nbformat": 4,
  "nbformat_minor": 0,
  "metadata": {
    "kernelspec": {
      "display_name": "Python 3",
      "language": "python",
      "name": "python3"
    },
    "language_info": {
      "codemirror_mode": {
        "name": "ipython",
        "version": 3
      },
      "file_extension": ".py",
      "mimetype": "text/x-python",
      "name": "python",
      "nbconvert_exporter": "python",
      "pygments_lexer": "ipython3",
      "version": "3.8.3"
    },
    "colab": {
      "name": "hw1_notebook_data_structures.ipynb",
      "provenance": [],
      "collapsed_sections": []
    }
  },
  "cells": [
    {
      "cell_type": "markdown",
      "metadata": {
        "id": "A7VpakR3dxTw",
        "colab_type": "text"
      },
      "source": [
        "# Задание 1"
      ]
    },
    {
      "cell_type": "code",
      "metadata": {
        "id": "IZWG1kj-dxT0",
        "colab_type": "code",
        "colab": {}
      },
      "source": [
        "def middle_word(word):\n",
        "  if len(word) % 2 == 0:\n",
        "      start = (len(word)-1) // 2\n",
        "      print(word[start:start+2])\n",
        "  else:\n",
        "      mid = len(word) // 2\n",
        "      print(word[mid])"
      ],
      "execution_count": 75,
      "outputs": []
    },
    {
      "cell_type": "code",
      "metadata": {
        "id": "wcoTDr37vPa1",
        "colab_type": "code",
        "colab": {
          "base_uri": "https://localhost:8080/",
          "height": 34
        },
        "outputId": "c36c1741-ccd5-4911-f95f-c586a715c6c6"
      },
      "source": [
        "middle_word('test')"
      ],
      "execution_count": 76,
      "outputs": [
        {
          "output_type": "stream",
          "text": [
            "es\n"
          ],
          "name": "stdout"
        }
      ]
    },
    {
      "cell_type": "code",
      "metadata": {
        "id": "gMoJRIcIvPkY",
        "colab_type": "code",
        "colab": {
          "base_uri": "https://localhost:8080/",
          "height": 34
        },
        "outputId": "5ba30658-6995-46f9-c344-7e97da6a90af"
      },
      "source": [
        "middle_word('testi')"
      ],
      "execution_count": 77,
      "outputs": [
        {
          "output_type": "stream",
          "text": [
            "s\n"
          ],
          "name": "stdout"
        }
      ]
    },
    {
      "cell_type": "markdown",
      "metadata": {
        "id": "i-w7KprYdxT7",
        "colab_type": "text"
      },
      "source": [
        "## Задание 2"
      ]
    },
    {
      "cell_type": "code",
      "metadata": {
        "id": "gN1pV473dxT8",
        "colab_type": "code",
        "colab": {
          "base_uri": "https://localhost:8080/",
          "height": 101
        },
        "outputId": "6e33ccbd-3616-4798-a235-4112def8845e"
      },
      "source": [
        "def summary():\n",
        "    s = 0\n",
        "    while(True):\n",
        "        num = int(input('Введите целое число: '))\n",
        "        if num <= 0:\n",
        "            yield s\n",
        "        else:\n",
        "            s += num\n",
        "summa = summary()\n",
        "print(next(summa))\n",
        "    "
      ],
      "execution_count": 41,
      "outputs": [
        {
          "output_type": "stream",
          "text": [
            "Введите целое число: 1\n",
            "Введите целое число: 2\n",
            "Введите целое число: 3\n",
            "Введите целое число: 0\n",
            "6\n"
          ],
          "name": "stdout"
        }
      ]
    },
    {
      "cell_type": "markdown",
      "metadata": {
        "id": "INkFWAF9dxT_",
        "colab_type": "text"
      },
      "source": [
        "## Задание 3"
      ]
    },
    {
      "cell_type": "code",
      "metadata": {
        "id": "sLJ10EkNdxUC",
        "colab_type": "code",
        "colab": {}
      },
      "source": [
        "def boys_n_girls(boys, girls):  \n",
        "  if len(boys) == 0 or len(girls) == 0:\n",
        "      print('Заполните массивы девшек и парней!')\n",
        "  elif len(boys) != len(girls):\n",
        "      print('Внимание, кто-то может остаться без пары!')\n",
        "  else:\n",
        "      boys.sort()\n",
        "      girls.sort()\n",
        "      for boy, girl in zip(boys, girls):\n",
        "          print(boy + ' и ' + girl)"
      ],
      "execution_count": 78,
      "outputs": []
    },
    {
      "cell_type": "code",
      "metadata": {
        "id": "aZlalNUvdxT_",
        "colab_type": "code",
        "colab": {
          "base_uri": "https://localhost:8080/",
          "height": 101
        },
        "outputId": "3f00b155-55af-4c4c-c9de-dd3c7197ca4f"
      },
      "source": [
        "boys = ['Peter', 'Alex', 'John', 'Arthur', 'Richard']\n",
        "girls = ['Kate', 'Liza', 'Kira', 'Emma', 'Trisha']\n",
        "\n",
        "boys_n_girls(boys, girls)"
      ],
      "execution_count": 79,
      "outputs": [
        {
          "output_type": "stream",
          "text": [
            "Alex и Emma\n",
            "Arthur и Kate\n",
            "John и Kira\n",
            "Peter и Liza\n",
            "Richard и Trisha\n"
          ],
          "name": "stdout"
        }
      ]
    },
    {
      "cell_type": "code",
      "metadata": {
        "id": "SWS4TrnivzHX",
        "colab_type": "code",
        "colab": {
          "base_uri": "https://localhost:8080/",
          "height": 34
        },
        "outputId": "37930089-5614-4370-c8e6-05cac33048ed"
      },
      "source": [
        "boys = ['Peter', 'Alex', 'John', 'Arthur', 'Richard']\n",
        "girls = ['Kate', 'Liza', 'Kira', 'Emma']\n",
        "boys_n_girls(boys, girls)"
      ],
      "execution_count": 80,
      "outputs": [
        {
          "output_type": "stream",
          "text": [
            "Внимание, кто-то может остаться без пары!\n"
          ],
          "name": "stdout"
        }
      ]
    },
    {
      "cell_type": "code",
      "metadata": {
        "id": "AYkLPbGHv4vI",
        "colab_type": "code",
        "colab": {
          "base_uri": "https://localhost:8080/",
          "height": 34
        },
        "outputId": "a84d3695-dc11-4a3b-9c86-ffdbb680772c"
      },
      "source": [
        "boys = []\n",
        "girls = []\n",
        "boys_n_girls(boys, girls)"
      ],
      "execution_count": 81,
      "outputs": [
        {
          "output_type": "stream",
          "text": [
            "Заполните массивы девшек и парней!\n"
          ],
          "name": "stdout"
        }
      ]
    },
    {
      "cell_type": "markdown",
      "metadata": {
        "id": "jhWFFjlWdxUF",
        "colab_type": "text"
      },
      "source": [
        "## Задание 4"
      ]
    },
    {
      "cell_type": "code",
      "metadata": {
        "id": "QeXqik28dxUF",
        "colab_type": "code",
        "colab": {}
      },
      "source": [
        "countries_temperature = [\n",
        "    ['Thailand', [75.2, 77, 78.8, 73.4, 68, 75.2, 77]],\n",
        "    ['Germany', [57.2, 55.4, 59, 59, 53.6]],\n",
        "    ['Russia', [35.6, 37.4, 39.2, 41, 42.8, 39.2, 35.6]],\n",
        "    ['Poland', [50, 50, 53.6, 57.2, 55.4, 55.4]]\n",
        "]"
      ],
      "execution_count": 3,
      "outputs": []
    },
    {
      "cell_type": "code",
      "metadata": {
        "id": "Rr8_GMQxr-xF",
        "colab_type": "code",
        "colab": {
          "base_uri": "https://localhost:8080/",
          "height": 84
        },
        "outputId": "f864296a-079e-44ae-cdd0-4edcaa40a18f"
      },
      "source": [
        "# средняя температура в цельсиях\n",
        "country_avg_temp = lambda country: sum(country[1])/len(country[1])\n",
        "\n",
        "# вывод одной страны с средней температурой\n",
        "one_country_repr = lambda x: x[0] + ' - {:.1f}C'.format((5/9)*(country_avg_temp(x) - 32))\n",
        "\n",
        "# вывод всех стран, используя темную магию генераторов\n",
        "print('\\n'.join([one_country_repr(country) for country in countries_temperature]))"
      ],
      "execution_count": 73,
      "outputs": [
        {
          "output_type": "stream",
          "text": [
            "Thailand - 23.9C\n",
            "Germany - 13.8C\n",
            "Russia - 3.7C\n",
            "Poland - 12.0C\n"
          ],
          "name": "stdout"
        }
      ]
    },
    {
      "cell_type": "markdown",
      "metadata": {
        "id": "ATHkUg5pdxUM",
        "colab_type": "text"
      },
      "source": [
        "## Задание 5"
      ]
    },
    {
      "cell_type": "code",
      "metadata": {
        "id": "UVldX5DTdxUN",
        "colab_type": "code",
        "colab": {}
      },
      "source": [
        "stream = [\n",
        "    '2018-01-01,user1,3',\n",
        "    '2018-01-07,user1,4',\n",
        "    '2018-03-29,user1,1',\n",
        "    '2018-04-04,user1,13',\n",
        "    '2018-01-05,user2,7',\n",
        "    '2018-06-14,user3,4',\n",
        "    '2018-07-02,user3,10',\n",
        "    '2018-03-21,user4,19',\n",
        "    '2018-03-22,user4,4',\n",
        "    '2018-04-22,user4,8',\n",
        "    '2018-05-03,user4,9',\n",
        "    '2018-05-11,user4,11',\n",
        "]"
      ],
      "execution_count": 12,
      "outputs": []
    },
    {
      "cell_type": "code",
      "metadata": {
        "id": "4SgBshn5dxUS",
        "colab_type": "code",
        "colab": {
          "base_uri": "https://localhost:8080/",
          "height": 34
        },
        "outputId": "d22d7470-9ccf-4e08-f77a-50a22d03340d"
      },
      "source": [
        "unique_users = {x.split(',')[1]: x.split(',')[2] for x in stream}\n",
        "avg = sum([int(x.split(',')[2]) for x in stream])/len(unique_users)\n",
        "print('Средняя посещаемость уникальных пользователей: {:.2f}'.format(avg))    "
      ],
      "execution_count": 36,
      "outputs": [
        {
          "output_type": "stream",
          "text": [
            "Средняя посещаемость уникальных пользователей: 23.25\n"
          ],
          "name": "stdout"
        }
      ]
    },
    {
      "cell_type": "markdown",
      "metadata": {
        "id": "EjJau3wYrWav",
        "colab_type": "text"
      },
      "source": [
        "## Задание 6"
      ]
    },
    {
      "cell_type": "code",
      "metadata": {
        "id": "jT2f7CNodxUV",
        "colab_type": "code",
        "colab": {
          "base_uri": "https://localhost:8080/",
          "height": 51
        },
        "outputId": "71ec9c7b-70c0-4e34-a96a-6c19b261834d"
      },
      "source": [
        "unique_num = ' '.join({str(int(x)) for x in input('Введите повторяющиеся целые числа: ').strip().split(' ')})\n",
        "print(unique_num)"
      ],
      "execution_count": 63,
      "outputs": [
        {
          "output_type": "stream",
          "text": [
            "Введите повторяющиеся целые числа: 1 2 3 4 4 4 \n",
            "3 4 1 2\n"
          ],
          "name": "stdout"
        }
      ]
    },
    {
      "cell_type": "code",
      "metadata": {
        "id": "zmjuhMyzdxUe",
        "colab_type": "code",
        "colab": {}
      },
      "source": [
        ""
      ],
      "execution_count": null,
      "outputs": []
    }
  ]
}