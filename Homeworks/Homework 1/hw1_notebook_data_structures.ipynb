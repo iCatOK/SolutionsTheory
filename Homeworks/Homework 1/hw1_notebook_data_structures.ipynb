{
 "cells": [
  {
   "cell_type": "markdown",
   "metadata": {},
   "source": [
    "# Задание 1"
   ]
  },
  {
   "cell_type": "code",
   "execution_count": 34,
   "metadata": {},
   "outputs": [],
   "source": [
    "word = 'testi'"
   ]
  },
  {
   "cell_type": "code",
   "execution_count": 33,
   "metadata": {},
   "outputs": [
    {
     "name": "stdout",
     "output_type": "stream",
     "text": [
      "s\n"
     ]
    }
   ],
   "source": [
    "if len(word) % 2 == 0:\n",
    "    start = (len(word)-1) // 2\n",
    "    print(word[start:start+2])\n",
    "else:\n",
    "    mid = len(word) // 2\n",
    "    print(word[mid])"
   ]
  },
  {
   "cell_type": "markdown",
   "metadata": {},
   "source": [
    "## Задание 2"
   ]
  },
  {
   "cell_type": "code",
   "execution_count": 70,
   "metadata": {},
   "outputs": [
    {
     "name": "stdout",
     "output_type": "stream",
     "text": [
      "Введите целое число: 4\n",
      "Введите целое число: 7\n",
      "Введите целое число: 0\n",
      "11\n"
     ]
    }
   ],
   "source": [
    "def summary():\n",
    "    s = 0\n",
    "    while(True):\n",
    "        num = int(input('Введите целое число: '))\n",
    "        if num <= 0:\n",
    "            yield s\n",
    "        else:\n",
    "            s += num\n",
    "summa = summary()\n",
    "print(next(summa))\n",
    "    "
   ]
  },
  {
   "cell_type": "markdown",
   "metadata": {},
   "source": [
    "## Задание 3"
   ]
  },
  {
   "cell_type": "code",
   "execution_count": 37,
   "metadata": {},
   "outputs": [],
   "source": [
    "boys = ['Peter', 'Alex', 'John', 'Arthur', 'Richard']\n",
    "girls = ['Kate', 'Liza', 'Kira', 'Emma', 'Trisha']"
   ]
  },
  {
   "cell_type": "code",
   "execution_count": 39,
   "metadata": {},
   "outputs": [
    {
     "name": "stdout",
     "output_type": "stream",
     "text": [
      "Alex и Emma\n",
      "Arthur и Kate\n",
      "John и Kira\n",
      "Peter и Liza\n",
      "Richard и Trisha\n"
     ]
    }
   ],
   "source": [
    "if len(boys) == 0 or len(girls) == 0:\n",
    "    print('Заполните массивы девшек и парней!')\n",
    "elif len(boys) != len(girls):\n",
    "    print('Внимание, кто-то может остаться без пары!')\n",
    "else:\n",
    "    boys.sort()\n",
    "    girls.sort()\n",
    "    for boy, girl in zip(boys, girls):\n",
    "        print(boy + ' и ' + girl)"
   ]
  },
  {
   "cell_type": "markdown",
   "metadata": {},
   "source": [
    "## Задание 4"
   ]
  },
  {
   "cell_type": "code",
   "execution_count": 42,
   "metadata": {},
   "outputs": [],
   "source": [
    "countries_temperature = [\n",
    "    ['Thailand', [75.2, 77, 78.8, 73.4, 68, 75.2, 77]],\n",
    "    ['Germany', [57.2, 55.4, 59, 59, 53.6]],\n",
    "    ['Russia', [35.6, 37.4, 39.2, 41, 42.8, 39.2, 35.6]],\n",
    "    ['Poland', [50, 50, 53.6, 57.2, 55.4, 55.4]]\n",
    "]"
   ]
  },
  {
   "cell_type": "code",
   "execution_count": 56,
   "metadata": {},
   "outputs": [
    {
     "name": "stdout",
     "output_type": "stream",
     "text": [
      "Thailand - 74.94285714285714\n",
      "Germany - 56.839999999999996\n",
      "Russia - 38.68571428571429\n",
      "Poland - 53.599999999999994\n"
     ]
    }
   ],
   "source": [
    "from functools import reduce \n",
    "for country in countries_temperature:\n",
    "    average_temperature = reduce(lambda x,y: x + y, country[1])/len(country[1])\n",
    "    print(country[0] + ' - ' + str(average_temperature))"
   ]
  },
  {
   "cell_type": "markdown",
   "metadata": {},
   "source": [
    "## Задание 5"
   ]
  },
  {
   "cell_type": "code",
   "execution_count": 57,
   "metadata": {},
   "outputs": [],
   "source": [
    "stream = [\n",
    "    '2018-01-01,user1,3',\n",
    "    '2018-01-07,user1,4',\n",
    "    '2018-03-29,user1,1',\n",
    "    '2018-04-04,user1,13',\n",
    "    '2018-01-05,user2,7',\n",
    "    '2018-06-14,user3,4',\n",
    "    '2018-07-02,user3,10',\n",
    "    '2018-03-21,user4,19',\n",
    "    '2018-03-22,user4,4',\n",
    "    '2018-04-22,user4,8',\n",
    "    '2018-05-03,user4,9',\n",
    "    '2018-05-11,user4,11',\n",
    "]"
   ]
  },
  {
   "cell_type": "code",
   "execution_count": 63,
   "metadata": {},
   "outputs": [
    {
     "name": "stdout",
     "output_type": "stream",
     "text": [
      "Среднее количество просмотров на уникального пользователя: 23.25\n"
     ]
    }
   ],
   "source": [
    "unique_users = []\n",
    "s = 0\n",
    "\n",
    "for entry in stream:\n",
    "    *first, user, views = entry.split(',')\n",
    "    if user not in unique_users:\n",
    "        unique_users.append(user)\n",
    "    s += int(views)\n",
    "\n",
    "average = s / len(unique_users)\n",
    "print('Среднее количество просмотров на уникального пользователя: ' + str(average))\n",
    "    "
   ]
  },
  {
   "cell_type": "code",
   "execution_count": 68,
   "metadata": {},
   "outputs": [
    {
     "name": "stdout",
     "output_type": "stream",
     "text": [
      "Введите числа: 1 1 2 2 3 3\n",
      "1 2 3 "
     ]
    }
   ],
   "source": [
    "numbers = list(map(int, input('Введите числа: ').split(' ')))\n",
    "unique_num = []\n",
    "ununique = []\n",
    "\n",
    "for i in numbers:\n",
    "    if i not in unique_num:\n",
    "        unique_num.append(i)\n",
    "    elif i not in ununique:\n",
    "        ununique.append(i)\n",
    "    else:\n",
    "        continue\n",
    "\n",
    "if len(ununique) > 0:\n",
    "    for i in ununique:\n",
    "        print(i, end=' ')\n",
    "else:\n",
    "    'Нет повторений'"
   ]
  },
  {
   "cell_type": "code",
   "execution_count": null,
   "metadata": {},
   "outputs": [],
   "source": []
  }
 ],
 "metadata": {
  "kernelspec": {
   "display_name": "Python 3",
   "language": "python",
   "name": "python3"
  },
  "language_info": {
   "codemirror_mode": {
    "name": "ipython",
    "version": 3
   },
   "file_extension": ".py",
   "mimetype": "text/x-python",
   "name": "python",
   "nbconvert_exporter": "python",
   "pygments_lexer": "ipython3",
   "version": "3.8.3"
  }
 },
 "nbformat": 4,
 "nbformat_minor": 4
}
