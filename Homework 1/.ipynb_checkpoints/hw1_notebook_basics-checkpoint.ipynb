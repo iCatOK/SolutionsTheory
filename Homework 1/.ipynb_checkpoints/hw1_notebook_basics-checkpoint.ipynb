{
 "cells": [
  {
   "cell_type": "markdown",
   "metadata": {},
   "source": [
    "# Домашняя работа №1"
   ]
  },
  {
   "cell_type": "markdown",
   "metadata": {},
   "source": [
    "## Задание 1"
   ]
  },
  {
   "cell_type": "code",
   "execution_count": 1,
   "metadata": {},
   "outputs": [],
   "source": [
    "#первая фраза\n",
    "p1 = 'gogogo'\n",
    "#вторая фраза\n",
    "p2 = 'nononooo'"
   ]
  },
  {
   "cell_type": "code",
   "execution_count": 2,
   "metadata": {},
   "outputs": [
    {
     "name": "stdout",
     "output_type": "stream",
     "text": [
      "Вторая фраза длиннее\n"
     ]
    }
   ],
   "source": [
    "if len(p1)>len(p2):\n",
    "    print('Первая фраза длиннее')\n",
    "elif len(p1) < len(p2):\n",
    "    print('Вторая фраза длиннее')\n",
    "else:\n",
    "    print('Длины фраз равны')"
   ]
  },
  {
   "cell_type": "markdown",
   "metadata": {},
   "source": [
    "## Задание 2"
   ]
  },
  {
   "cell_type": "code",
   "execution_count": 17,
   "metadata": {},
   "outputs": [],
   "source": [
    "year = 1992"
   ]
  },
  {
   "cell_type": "code",
   "execution_count": 20,
   "metadata": {},
   "outputs": [
    {
     "name": "stdout",
     "output_type": "stream",
     "text": [
      "Високосный\n"
     ]
    }
   ],
   "source": [
    "if year % 400 == 0:\n",
    "    print('Високосный')\n",
    "elif year % 100 == 0:\n",
    "    print('Невисокосный')\n",
    "elif year % 4 == 0:\n",
    "    print('Високосный')\n",
    "else:\n",
    "    print('Невисокосный')"
   ]
  },
  {
   "cell_type": "markdown",
   "metadata": {},
   "source": [
    "## Задание 3"
   ]
  },
  {
   "cell_type": "code",
   "execution_count": 37,
   "metadata": {},
   "outputs": [],
   "source": [
    "\"\"\"\n",
    "Создание словаря с ключом-названием знака зодиака и значением-функцией, которая возвращает\n",
    "булевое(истина или ложь) значение в зависимости от введенных данных.\n",
    "\"\"\"\n",
    "\n",
    "zodiak_info = {\n",
    "    'Овен': lambda x, y: 21 <= x <= 31 and y == 'Март' or 1 <= x <= 19 and y == 'Апрель',\n",
    "    'Телец': lambda x, y: 20 <= x <= 30 and y == 'Апрель' or 1 <= x <= 20 and y == 'Май',\n",
    "    'Близнецы': lambda x, y: 21 <= x <= 31 and y == 'Май' or 1 <= x <= 20 and y == 'Июнь',\n",
    "    'Рак': lambda x, y: 21 <= x <= 30 and y == 'Июнь' or 1 <= x <= 22 and y == 'Июль',\n",
    "    'Лев': lambda x, y: 23 <= x <= 31 and y == 'Июль' or 1 <= x <= 22 and y == 'Август',\n",
    "    'Дева': lambda x, y: 23 <= x <= 31 and y == 'Август' or 1 <= x <= 22 and y == 'Сентябрь',\n",
    "    'Весы': lambda x, y: 23 <= x <= 30 and y == 'Сентябрь' or 1 <= x <= 22 and y == 'Октябрь', \n",
    "    'Скорпион': lambda x, y: 23 <= x <= 31 and y == 'Октябрь' or 1 <= x <= 21 and y == 'Ноябрь',\n",
    "    'Стрелец': lambda x, y: 22 <= x <= 30 and y == 'Ноябрь' or 1 <= x <= 21 and y == 'Декабрь',\n",
    "    'Козерог': lambda x, y: 22 <= x <= 31 and y == 'Декабрь' or 1 <= x <= 19 and y == 'Январь',\n",
    "    'Водолей': lambda x, y: 20 <= x <= 31 and y == 'Январь' or 1 <= x <= 18 and y == 'Февраль',\n",
    "    'Рыбы': lambda x, y: 19 <= x <= 29 and y == 'Февраль' or 1 <= x <= 20 and y == 'Март'\n",
    "}\n",
    "\n",
    "#данные для ввода (вместо input() и int(input()))\n",
    "month = 'Сентябрь'\n",
    "day = 14"
   ]
  },
  {
   "cell_type": "code",
   "execution_count": 35,
   "metadata": {},
   "outputs": [
    {
     "name": "stdout",
     "output_type": "stream",
     "text": [
      "Дева\n"
     ]
    }
   ],
   "source": [
    "found = False\n",
    "\n",
    "for zodiak in zodiak_info.keys():\n",
    "    if zodiak_info[zodiak](day, month):\n",
    "        print(zodiak)\n",
    "        found = True\n",
    "        break\n",
    "        \n",
    "if not found:\n",
    "    print('Ошибка ввода')"
   ]
  },
  {
   "cell_type": "markdown",
   "metadata": {},
   "source": [
    "## Задание 4 разбирали на паре (2-3 итерации if/elif)"
   ]
  },
  {
   "cell_type": "code",
   "execution_count": null,
   "metadata": {},
   "outputs": [],
   "source": []
  },
  {
   "cell_type": "markdown",
   "metadata": {},
   "source": [
    "## Задание 5"
   ]
  },
  {
   "cell_type": "code",
   "execution_count": 2,
   "metadata": {},
   "outputs": [
    {
     "name": "stdout",
     "output_type": "stream",
     "text": [
      "1111111\n"
     ]
    }
   ],
   "source": [
    "ticket_number = int(input())"
   ]
  },
  {
   "cell_type": "code",
   "execution_count": 3,
   "metadata": {},
   "outputs": [
    {
     "data": {
      "text/plain": [
       "['1', '1', '1', '1', '1', '1', '1']"
      ]
     },
     "execution_count": 3,
     "metadata": {},
     "output_type": "execute_result"
    }
   ],
   "source": [
    "arr = list(str(ticket_number))"
   ]
  },
  {
   "cell_type": "code",
   "execution_count": 6,
   "metadata": {},
   "outputs": [
    {
     "ename": "Exception",
     "evalue": "Введите 6-значное число",
     "output_type": "error",
     "traceback": [
      "\u001b[0;31m---------------------------------------------------------------------------\u001b[0m",
      "\u001b[0;31mException\u001b[0m                                 Traceback (most recent call last)",
      "\u001b[0;32m<ipython-input-6-ec6998021b71>\u001b[0m in \u001b[0;36m<module>\u001b[0;34m\u001b[0m\n\u001b[1;32m      1\u001b[0m \u001b[0;32mif\u001b[0m \u001b[0mlen\u001b[0m\u001b[0;34m(\u001b[0m\u001b[0marr\u001b[0m\u001b[0;34m)\u001b[0m \u001b[0;34m!=\u001b[0m \u001b[0;36m6\u001b[0m\u001b[0;34m:\u001b[0m\u001b[0;34m\u001b[0m\u001b[0;34m\u001b[0m\u001b[0m\n\u001b[0;32m----> 2\u001b[0;31m     \u001b[0;32mraise\u001b[0m \u001b[0mException\u001b[0m\u001b[0;34m(\u001b[0m\u001b[0;34m\"Введите 6-значное число\"\u001b[0m\u001b[0;34m)\u001b[0m\u001b[0;34m\u001b[0m\u001b[0;34m\u001b[0m\u001b[0m\n\u001b[0m\u001b[1;32m      3\u001b[0m \u001b[0mfirst_half\u001b[0m \u001b[0;34m=\u001b[0m \u001b[0mint\u001b[0m\u001b[0;34m(\u001b[0m\u001b[0marr\u001b[0m\u001b[0;34m[\u001b[0m\u001b[0;36m0\u001b[0m\u001b[0;34m]\u001b[0m\u001b[0;34m)\u001b[0m\u001b[0;34m+\u001b[0m\u001b[0mint\u001b[0m\u001b[0;34m(\u001b[0m\u001b[0marr\u001b[0m\u001b[0;34m[\u001b[0m\u001b[0;36m1\u001b[0m\u001b[0;34m]\u001b[0m\u001b[0;34m)\u001b[0m\u001b[0;34m+\u001b[0m\u001b[0mint\u001b[0m\u001b[0;34m(\u001b[0m\u001b[0marr\u001b[0m\u001b[0;34m[\u001b[0m\u001b[0;36m2\u001b[0m\u001b[0;34m]\u001b[0m\u001b[0;34m)\u001b[0m\u001b[0;34m\u001b[0m\u001b[0;34m\u001b[0m\u001b[0m\n\u001b[1;32m      4\u001b[0m \u001b[0msecond_half\u001b[0m \u001b[0;34m=\u001b[0m \u001b[0mint\u001b[0m\u001b[0;34m(\u001b[0m\u001b[0marr\u001b[0m\u001b[0;34m[\u001b[0m\u001b[0;36m3\u001b[0m\u001b[0;34m]\u001b[0m\u001b[0;34m)\u001b[0m\u001b[0;34m+\u001b[0m\u001b[0mint\u001b[0m\u001b[0;34m(\u001b[0m\u001b[0marr\u001b[0m\u001b[0;34m[\u001b[0m\u001b[0;36m4\u001b[0m\u001b[0;34m]\u001b[0m\u001b[0;34m)\u001b[0m\u001b[0;34m+\u001b[0m\u001b[0mint\u001b[0m\u001b[0;34m(\u001b[0m\u001b[0marr\u001b[0m\u001b[0;34m[\u001b[0m\u001b[0;36m5\u001b[0m\u001b[0;34m]\u001b[0m\u001b[0;34m)\u001b[0m\u001b[0;34m\u001b[0m\u001b[0;34m\u001b[0m\u001b[0m\n\u001b[1;32m      5\u001b[0m \u001b[0;32mif\u001b[0m \u001b[0mfirst_half\u001b[0m \u001b[0;34m==\u001b[0m \u001b[0msecond_half\u001b[0m\u001b[0;34m:\u001b[0m\u001b[0;34m\u001b[0m\u001b[0;34m\u001b[0m\u001b[0m\n",
      "\u001b[0;31mException\u001b[0m: Введите 6-значное число"
     ]
    }
   ],
   "source": [
    "if len(arr) != 6:\n",
    "    raise Exception(\"Введите 6-значное число\")\n",
    "first_half = int(arr[0])+int(arr[1])+int(arr[2])\n",
    "second_half = int(arr[3])+int(arr[4])+int(arr[5])\n",
    "if first_half == second_half:\n",
    "    print('Счастливый билет')\n",
    "else:\n",
    "    print('Несчастливый билет')"
   ]
  },
  {
   "cell_type": "markdown",
   "metadata": {},
   "source": [
    "## Задание 6"
   ]
  },
  {
   "cell_type": "markdown",
   "metadata": {},
   "source": [
    "Треугольник"
   ]
  },
  {
   "cell_type": "code",
   "execution_count": 9,
   "metadata": {},
   "outputs": [],
   "source": [
    "def triangle():\n",
    "    a = float(input('Введите сторону A: '))\n",
    "    b = float(input('Введите сторону B: '))\n",
    "    c = float(input('Введите сторону C: '))\n",
    "    p = (a + b + c) / 2\n",
    "    \n",
    "    return (p*(p-a)*(p-b)*(p-c))**0.5"
   ]
  },
  {
   "cell_type": "markdown",
   "metadata": {},
   "source": [
    "Круг"
   ]
  },
  {
   "cell_type": "code",
   "execution_count": 13,
   "metadata": {},
   "outputs": [],
   "source": [
    "import math\n",
    "def circle():\n",
    "    R = float(input('Введите радиус R: '))\n",
    "    return math.pi * (R**2)"
   ]
  },
  {
   "cell_type": "markdown",
   "metadata": {},
   "source": [
    "Прямоугольник"
   ]
  },
  {
   "cell_type": "code",
   "execution_count": 14,
   "metadata": {},
   "outputs": [],
   "source": [
    "def rectangle():\n",
    "    a = float(input('Введите сторону А: '))\n",
    "    b = float(input('Введите сторону B: '))\n",
    "    \n",
    "    return a*b"
   ]
  },
  {
   "cell_type": "code",
   "execution_count": 15,
   "metadata": {},
   "outputs": [],
   "source": [
    "# сохраним функции в словарь (не забудьте их запустить все отдельно)\n",
    "figure_areas = {\n",
    "    'Круг': circle,\n",
    "    'Прямоугольник': rectangle,\n",
    "    'Треугольник': triangle\n",
    "}"
   ]
  },
  {
   "cell_type": "code",
   "execution_count": 22,
   "metadata": {},
   "outputs": [
    {
     "name": "stdout",
     "output_type": "stream",
     "text": [
      "Введите фигуру: уу\n",
      "Ошибка ввода: 'уу'\n"
     ]
    }
   ],
   "source": [
    "figure = input('Введите фигуру: ')\n",
    "try:\n",
    "    print('Площадь фигуры \"' + figure + '\": ' + str(figure_areas[figure]()))\n",
    "except Exception as e:\n",
    "    print('Ошибка ввода: ' + str(e))"
   ]
  },
  {
   "cell_type": "code",
   "execution_count": null,
   "metadata": {},
   "outputs": [],
   "source": []
  }
 ],
 "metadata": {
  "kernelspec": {
   "display_name": "Python 3",
   "language": "python",
   "name": "python3"
  },
  "language_info": {
   "codemirror_mode": {
    "name": "ipython",
    "version": 3
   },
   "file_extension": ".py",
   "mimetype": "text/x-python",
   "name": "python",
   "nbconvert_exporter": "python",
   "pygments_lexer": "ipython3",
   "version": "3.8.3"
  }
 },
 "nbformat": 4,
 "nbformat_minor": 4
}
