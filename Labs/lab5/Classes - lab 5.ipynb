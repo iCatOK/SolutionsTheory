{
 "metadata": {
  "language_info": {
   "codemirror_mode": {
    "name": "ipython",
    "version": 3
   },
   "file_extension": ".py",
   "mimetype": "text/x-python",
   "name": "python",
   "nbconvert_exporter": "python",
   "pygments_lexer": "ipython3",
   "version": "3.8.5-final"
  },
  "orig_nbformat": 2,
  "kernelspec": {
   "name": "Python 3.8.5 64-bit",
   "display_name": "Python 3.8.5 64-bit",
   "metadata": {
    "interpreter": {
     "hash": "c74d625a622eb7faed69d51549854ab07b21b89a52f349e19c6e417b21491d19"
    }
   }
  }
 },
 "nbformat": 4,
 "nbformat_minor": 2,
 "cells": [
  {
   "source": [
    "# Задание 1\n",
    "\n",
    "Напишите функцию , которая возвращает название валюты (поле ‘Name’) с максимальным значением курса с помощью сервиса https://www.cbr-xml-daily.ru/daily_json.js"
   ],
   "cell_type": "markdown",
   "metadata": {
    "tags": []
   }
  },
  {
   "cell_type": "code",
   "execution_count": 2,
   "metadata": {
    "tags": []
   },
   "outputs": [
    {
     "output_type": "stream",
     "name": "stdout",
     "text": "СДР (специальные права заимствования)\n"
    }
   ],
   "source": [
    "import pandas as pd \n",
    "url = 'https://www.cbr-xml-daily.ru/daily_json.js'\n",
    "dfs = pd.read_json(url)\n",
    "valutes = pd.DataFrame(dfs['Valute'].tolist())\n",
    "print(valutes[valutes['Value'] == valutes['Value'].max()]['Name'].tolist()[0])"
   ]
  },
  {
   "source": [
    "# Задание 2\n",
    "Добавьте в класс Rate параметр diff (со значениями True или False), который в случае значения True в методах курсов валют (eur, usd итд) будет возвращать не курс валюты, а изменение по сравнению в прошлым значением. Считайте, self.diff будет принимать значение True только при возврате значения курса. При отображении всей информации о валюте он не используется."
   ],
   "cell_type": "markdown",
   "metadata": {}
  },
  {
   "cell_type": "code",
   "execution_count": 112,
   "metadata": {},
   "outputs": [],
   "source": [
    "# класс Rate\n",
    "class Rate():\n",
    "    def __init__(self, id, numcode, charcode, nominal, name, value, previous, diff=False):\n",
    "        self.id = id\n",
    "        self.numcode = numcode\n",
    "        self.charcode = charcode\n",
    "        self.nominal = nominal\n",
    "        self.name = name\n",
    "        self.value = value\n",
    "        self.previous = previous\n",
    "        self.diff = diff\n",
    "\n",
    "    def all_information(self):\n",
    "        print('---Общая информация о валюте \"{}\"---'.format(self.name))\n",
    "        print('ID: {}'.format(self.id))\n",
    "        print('Номер: {}'.format(self.numcode))\n",
    "        print('Код: {}'.format(self.charcode))\n",
    "        print('Номинал: {}'.format(self.nominal))\n",
    "        print('Текущее значение: {}'.format(self.value))\n",
    "        print('Предыдущее значение: {}\\n'.format(self.previous))\n",
    "    \n",
    "    def diff_delta(self):\n",
    "        return self.value - self.previous if self.diff else self.value\n",
    "    \n",
    "    def course_info(self):\n",
    "        info_label = 'Текущий курс: '\n",
    "        if self.diff:\n",
    "            sign = '+' if self.diff_delta() > 0 else ''\n",
    "            info_label = 'Изменение: '+sign\n",
    "        print('{}{}'.format(info_label, self.diff_delta()))\n",
    "        "
   ]
  },
  {
   "cell_type": "code",
   "execution_count": 114,
   "metadata": {
    "tags": []
   },
   "outputs": [
    {
     "output_type": "stream",
     "name": "stdout",
     "text": "---Общая информация о валюте \"Доллары\"---\nID: 01\nНомер: 01\nКод: USD\nНоминал: 1000\nТекущее значение: 131\nПредыдущее значение: 120\n\nТекущий курс: 131\n"
    }
   ],
   "source": [
    "# Валюта с diff=Flase - только информация о текущем значении\n",
    "usd = Rate('01', '01', 'USD', 1000, 'Доллары', 131, 120, False)\n",
    "usd.all_information()\n",
    "usd.course_info()"
   ]
  },
  {
   "cell_type": "code",
   "execution_count": 115,
   "metadata": {
    "tags": []
   },
   "outputs": [
    {
     "output_type": "stream",
     "name": "stdout",
     "text": "---Общая информация о валюте \"Доллары\"---\nID: 01\nНомер: 01\nКод: USD\nНоминал: 1000\nТекущее значение: 131\nПредыдущее значение: 120\n\nИзменение: +11\n"
    }
   ],
   "source": [
    "# Валюта с diff=True - добавляется информация об изменении валюты (дельта)\n",
    "usd = Rate('01', '01', 'USD', 1000, 'Доллары', 131, 120, True)\n",
    "usd.all_information()\n",
    "usd.course_info()"
   ]
  },
  {
   "source": [
    "# Задание 3\n",
    "Напишите класс Designer, который учитывает количество международных премий для дизайнеров (из презентации: \"Повышение на 1 грейд за каждые 7 баллов. Получение международной премии – это +2 балла\" для каждой аккредитации увеличиваем счетчик на 1, пока считаем, что все дизайнеры проходят аккредитацию). Считайте, что при выходе на работу сотрудник уже имеет две премии и их количество меняется со стажем (получение премии генератор случайных чисел ). Выполните проверку для 20 аккредитаций дизайнера Елены. Подсказки в коде занятия в разделе “Домашнее задание задача 3”."
   ],
   "cell_type": "markdown",
   "metadata": {}
  },
  {
   "cell_type": "code",
   "execution_count": 126,
   "metadata": {},
   "outputs": [],
   "source": [
    "class Designer():\n",
    "    def __init__(self, name, seniority=0,awards=0):\n",
    "        self.name = name\n",
    "        self.seniority = seniority\n",
    "        self.awards = awards\n",
    "        self.score = awards*2\n",
    "    \n",
    "    def acreditation(self):\n",
    "        print('Акредитация пройдена! (+1 балл)')\n",
    "        self.score += 1\n",
    "    \n",
    "    def add_award(self):\n",
    "        self.awards += 1\n",
    "        self.score += 2\n",
    "    \n",
    "    def upgrade(self):\n",
    "        self.seniority = self.score // 7\n",
    "    \n",
    "    def info(self):\n",
    "        print('\\n---Информация о дизайнере {}---'.format(self.name))\n",
    "        print('Грейд: {}'.format(self.seniority))\n",
    "        print('Наград: {}\\n'.format(self.awards))"
   ]
  },
  {
   "cell_type": "code",
   "execution_count": 127,
   "metadata": {
    "tags": []
   },
   "outputs": [
    {
     "output_type": "stream",
     "name": "stdout",
     "text": "\n---Информация о дизайнере Елена---\nГрейд: 0\nНаград: 2\n\nАкредитация пройдена! (+1 балл)\nАкредитация пройдена! (+1 балл)\nАкредитация пройдена! (+1 балл)\nАкредитация пройдена! (+1 балл)\nАкредитация пройдена! (+1 балл)\nАкредитация пройдена! (+1 балл)\nАкредитация пройдена! (+1 балл)\nАкредитация пройдена! (+1 балл)\nАкредитация пройдена! (+1 балл)\nАкредитация пройдена! (+1 балл)\nАкредитация пройдена! (+1 балл)\nАкредитация пройдена! (+1 балл)\nАкредитация пройдена! (+1 балл)\nАкредитация пройдена! (+1 балл)\nАкредитация пройдена! (+1 балл)\nАкредитация пройдена! (+1 балл)\nАкредитация пройдена! (+1 балл)\nАкредитация пройдена! (+1 балл)\nАкредитация пройдена! (+1 балл)\nАкредитация пройдена! (+1 балл)\n\n---Информация о дизайнере Елена---\nГрейд: 3\nНаград: 2\n\n"
    }
   ],
   "source": [
    "# код проверки\n",
    "elena = Designer('Елена', seniority=0, awards=2)\n",
    "elena.info()\n",
    "\n",
    "for i in range(20):\n",
    "    elena.acreditation()\n",
    "\n",
    "elena.upgrade()\n",
    "elena.info()\n"
   ]
  },
  {
   "cell_type": "code",
   "execution_count": null,
   "metadata": {},
   "outputs": [],
   "source": []
  }
 ]
}