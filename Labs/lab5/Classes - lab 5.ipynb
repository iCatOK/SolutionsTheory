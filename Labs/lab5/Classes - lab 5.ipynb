{
 "metadata": {
  "language_info": {
   "codemirror_mode": {
    "name": "ipython",
    "version": 3
   },
   "file_extension": ".py",
   "mimetype": "text/x-python",
   "name": "python",
   "nbconvert_exporter": "python",
   "pygments_lexer": "ipython3",
   "version": "3.8.5-final"
  },
  "orig_nbformat": 2,
  "kernelspec": {
   "name": "Python 3.8.5 64-bit",
   "display_name": "Python 3.8.5 64-bit",
   "metadata": {
    "interpreter": {
     "hash": "c74d625a622eb7faed69d51549854ab07b21b89a52f349e19c6e417b21491d19"
    }
   }
  }
 },
 "nbformat": 4,
 "nbformat_minor": 2,
 "cells": [
  {
   "source": [
    "# Задание 1\n",
    "\n",
    "Напишите функцию, которая возвращает название валюты (поле ‘Name’) с максимальным значением курса с помощью сервиса https://www.cbr-xml-daily.ru/daily_json.js"
   ],
   "cell_type": "markdown",
   "metadata": {
    "tags": []
   }
  },
  {
   "cell_type": "code",
   "execution_count": 80,
   "metadata": {},
   "outputs": [
    {
     "output_type": "execute_result",
     "data": {
      "text/plain": "         ID NumCode CharCode  Nominal  \\\n0    R01060     051      AMD      100   \n1    R01010     036      AUD        1   \n2   R01020A     944      AZN        1   \n3    R01100     975      BGN        1   \n4    R01115     986      BRL        1   \n5   R01090B     933      BYN        1   \n6    R01350     124      CAD        1   \n7    R01775     756      CHF        1   \n8    R01375     156      CNY        1   \n9    R01760     203      CZK       10   \n10   R01215     208      DKK        1   \n11   R01239     978      EUR        1   \n12   R01035     826      GBP        1   \n13   R01200     344      HKD        1   \n14   R01135     348      HUF      100   \n15   R01270     356      INR       10   \n16   R01820     392      JPY      100   \n17   R01370     417      KGS      100   \n18   R01815     410      KRW     1000   \n19   R01335     398      KZT      100   \n20   R01500     498      MDL       10   \n21   R01535     578      NOK       10   \n22   R01565     985      PLN        1   \n23  R01585F     946      RON        1   \n24   R01770     752      SEK       10   \n25   R01625     702      SGD        1   \n26   R01670     972      TJS       10   \n27  R01710A     934      TMT        1   \n28  R01700J     949      TRY        1   \n29   R01720     980      UAH       10   \n30   R01235     840      USD        1   \n31   R01717     860      UZS    10000   \n32   R01589     960      XDR        1   \n33   R01810     710      ZAR       10   \n\n                                        Name     Value  Previous  \n0                           Армянских драмов   16.0024   15.8355  \n1                       Австралийский доллар   55.8979   55.5393  \n2                      Азербайджанский манат   45.9632   45.4840  \n3                             Болгарский лев   46.8174   46.3655  \n4                           Бразильский реал   13.8364   13.7727  \n5                          Белорусский рубль   29.8002   29.7198  \n6                           Канадский доллар   58.7242   58.1208  \n7                          Швейцарский франк   84.8636   84.0154  \n8                             Китайский юань   11.4996   11.3797  \n9                               Чешских крон   34.0416   33.6398  \n10                             Датская крона   12.3033   12.1843  \n11                                      Евро   91.5779   90.7237  \n12  Фунт стерлингов Соединенного королевства  101.0114   99.4792  \n13                        Гонконгский доллар   10.0759   99.7089  \n14                       Венгерских форинтов   25.4876   25.0697  \n15                           Индийских рупий   10.6373   10.5691  \n16                              Японских иен   74.2491   73.2244  \n17                          Киргизских сомов   98.2094   97.0490  \n18                      Вон Республики Корея   67.0881   66.4901  \n19                       Казахстанских тенге   18.0435   17.9803  \n20                           Молдавских леев   46.2080   45.6048  \n21                           Норвежских крон   83.9152   83.3836  \n22                           Польский злотый   20.3692   20.0841  \n23                             Румынский лей   18.7851   18.6085  \n24                             Шведских крон   87.7196   86.4671  \n25                       Сингапурский доллар   57.2602   56.7132  \n26                         Таджикских сомони   75.6701   74.8449  \n27                   Новый туркменский манат   22.3438   22.1108  \n28                             Турецкая лира   10.0576   10.0192  \n29                         Украинских гривен   27.5515   27.2677  \n30                                Доллар США   78.0915   77.2774  \n31                           Узбекских сумов   76.0533   74.8724  \n32     СДР (специальные права заимствования)  110.1496  108.7733  \n33                    Южноафриканских рэндов   46.8661   46.5743  ",
      "text/html": "<div>\n<style scoped>\n    .dataframe tbody tr th:only-of-type {\n        vertical-align: middle;\n    }\n\n    .dataframe tbody tr th {\n        vertical-align: top;\n    }\n\n    .dataframe thead th {\n        text-align: right;\n    }\n</style>\n<table border=\"1\" class=\"dataframe\">\n  <thead>\n    <tr style=\"text-align: right;\">\n      <th></th>\n      <th>ID</th>\n      <th>NumCode</th>\n      <th>CharCode</th>\n      <th>Nominal</th>\n      <th>Name</th>\n      <th>Value</th>\n      <th>Previous</th>\n    </tr>\n  </thead>\n  <tbody>\n    <tr>\n      <th>0</th>\n      <td>R01060</td>\n      <td>051</td>\n      <td>AMD</td>\n      <td>100</td>\n      <td>Армянских драмов</td>\n      <td>16.0024</td>\n      <td>15.8355</td>\n    </tr>\n    <tr>\n      <th>1</th>\n      <td>R01010</td>\n      <td>036</td>\n      <td>AUD</td>\n      <td>1</td>\n      <td>Австралийский доллар</td>\n      <td>55.8979</td>\n      <td>55.5393</td>\n    </tr>\n    <tr>\n      <th>2</th>\n      <td>R01020A</td>\n      <td>944</td>\n      <td>AZN</td>\n      <td>1</td>\n      <td>Азербайджанский манат</td>\n      <td>45.9632</td>\n      <td>45.4840</td>\n    </tr>\n    <tr>\n      <th>3</th>\n      <td>R01100</td>\n      <td>975</td>\n      <td>BGN</td>\n      <td>1</td>\n      <td>Болгарский лев</td>\n      <td>46.8174</td>\n      <td>46.3655</td>\n    </tr>\n    <tr>\n      <th>4</th>\n      <td>R01115</td>\n      <td>986</td>\n      <td>BRL</td>\n      <td>1</td>\n      <td>Бразильский реал</td>\n      <td>13.8364</td>\n      <td>13.7727</td>\n    </tr>\n    <tr>\n      <th>5</th>\n      <td>R01090B</td>\n      <td>933</td>\n      <td>BYN</td>\n      <td>1</td>\n      <td>Белорусский рубль</td>\n      <td>29.8002</td>\n      <td>29.7198</td>\n    </tr>\n    <tr>\n      <th>6</th>\n      <td>R01350</td>\n      <td>124</td>\n      <td>CAD</td>\n      <td>1</td>\n      <td>Канадский доллар</td>\n      <td>58.7242</td>\n      <td>58.1208</td>\n    </tr>\n    <tr>\n      <th>7</th>\n      <td>R01775</td>\n      <td>756</td>\n      <td>CHF</td>\n      <td>1</td>\n      <td>Швейцарский франк</td>\n      <td>84.8636</td>\n      <td>84.0154</td>\n    </tr>\n    <tr>\n      <th>8</th>\n      <td>R01375</td>\n      <td>156</td>\n      <td>CNY</td>\n      <td>1</td>\n      <td>Китайский юань</td>\n      <td>11.4996</td>\n      <td>11.3797</td>\n    </tr>\n    <tr>\n      <th>9</th>\n      <td>R01760</td>\n      <td>203</td>\n      <td>CZK</td>\n      <td>10</td>\n      <td>Чешских крон</td>\n      <td>34.0416</td>\n      <td>33.6398</td>\n    </tr>\n    <tr>\n      <th>10</th>\n      <td>R01215</td>\n      <td>208</td>\n      <td>DKK</td>\n      <td>1</td>\n      <td>Датская крона</td>\n      <td>12.3033</td>\n      <td>12.1843</td>\n    </tr>\n    <tr>\n      <th>11</th>\n      <td>R01239</td>\n      <td>978</td>\n      <td>EUR</td>\n      <td>1</td>\n      <td>Евро</td>\n      <td>91.5779</td>\n      <td>90.7237</td>\n    </tr>\n    <tr>\n      <th>12</th>\n      <td>R01035</td>\n      <td>826</td>\n      <td>GBP</td>\n      <td>1</td>\n      <td>Фунт стерлингов Соединенного королевства</td>\n      <td>101.0114</td>\n      <td>99.4792</td>\n    </tr>\n    <tr>\n      <th>13</th>\n      <td>R01200</td>\n      <td>344</td>\n      <td>HKD</td>\n      <td>1</td>\n      <td>Гонконгский доллар</td>\n      <td>10.0759</td>\n      <td>99.7089</td>\n    </tr>\n    <tr>\n      <th>14</th>\n      <td>R01135</td>\n      <td>348</td>\n      <td>HUF</td>\n      <td>100</td>\n      <td>Венгерских форинтов</td>\n      <td>25.4876</td>\n      <td>25.0697</td>\n    </tr>\n    <tr>\n      <th>15</th>\n      <td>R01270</td>\n      <td>356</td>\n      <td>INR</td>\n      <td>10</td>\n      <td>Индийских рупий</td>\n      <td>10.6373</td>\n      <td>10.5691</td>\n    </tr>\n    <tr>\n      <th>16</th>\n      <td>R01820</td>\n      <td>392</td>\n      <td>JPY</td>\n      <td>100</td>\n      <td>Японских иен</td>\n      <td>74.2491</td>\n      <td>73.2244</td>\n    </tr>\n    <tr>\n      <th>17</th>\n      <td>R01370</td>\n      <td>417</td>\n      <td>KGS</td>\n      <td>100</td>\n      <td>Киргизских сомов</td>\n      <td>98.2094</td>\n      <td>97.0490</td>\n    </tr>\n    <tr>\n      <th>18</th>\n      <td>R01815</td>\n      <td>410</td>\n      <td>KRW</td>\n      <td>1000</td>\n      <td>Вон Республики Корея</td>\n      <td>67.0881</td>\n      <td>66.4901</td>\n    </tr>\n    <tr>\n      <th>19</th>\n      <td>R01335</td>\n      <td>398</td>\n      <td>KZT</td>\n      <td>100</td>\n      <td>Казахстанских тенге</td>\n      <td>18.0435</td>\n      <td>17.9803</td>\n    </tr>\n    <tr>\n      <th>20</th>\n      <td>R01500</td>\n      <td>498</td>\n      <td>MDL</td>\n      <td>10</td>\n      <td>Молдавских леев</td>\n      <td>46.2080</td>\n      <td>45.6048</td>\n    </tr>\n    <tr>\n      <th>21</th>\n      <td>R01535</td>\n      <td>578</td>\n      <td>NOK</td>\n      <td>10</td>\n      <td>Норвежских крон</td>\n      <td>83.9152</td>\n      <td>83.3836</td>\n    </tr>\n    <tr>\n      <th>22</th>\n      <td>R01565</td>\n      <td>985</td>\n      <td>PLN</td>\n      <td>1</td>\n      <td>Польский злотый</td>\n      <td>20.3692</td>\n      <td>20.0841</td>\n    </tr>\n    <tr>\n      <th>23</th>\n      <td>R01585F</td>\n      <td>946</td>\n      <td>RON</td>\n      <td>1</td>\n      <td>Румынский лей</td>\n      <td>18.7851</td>\n      <td>18.6085</td>\n    </tr>\n    <tr>\n      <th>24</th>\n      <td>R01770</td>\n      <td>752</td>\n      <td>SEK</td>\n      <td>10</td>\n      <td>Шведских крон</td>\n      <td>87.7196</td>\n      <td>86.4671</td>\n    </tr>\n    <tr>\n      <th>25</th>\n      <td>R01625</td>\n      <td>702</td>\n      <td>SGD</td>\n      <td>1</td>\n      <td>Сингапурский доллар</td>\n      <td>57.2602</td>\n      <td>56.7132</td>\n    </tr>\n    <tr>\n      <th>26</th>\n      <td>R01670</td>\n      <td>972</td>\n      <td>TJS</td>\n      <td>10</td>\n      <td>Таджикских сомони</td>\n      <td>75.6701</td>\n      <td>74.8449</td>\n    </tr>\n    <tr>\n      <th>27</th>\n      <td>R01710A</td>\n      <td>934</td>\n      <td>TMT</td>\n      <td>1</td>\n      <td>Новый туркменский манат</td>\n      <td>22.3438</td>\n      <td>22.1108</td>\n    </tr>\n    <tr>\n      <th>28</th>\n      <td>R01700J</td>\n      <td>949</td>\n      <td>TRY</td>\n      <td>1</td>\n      <td>Турецкая лира</td>\n      <td>10.0576</td>\n      <td>10.0192</td>\n    </tr>\n    <tr>\n      <th>29</th>\n      <td>R01720</td>\n      <td>980</td>\n      <td>UAH</td>\n      <td>10</td>\n      <td>Украинских гривен</td>\n      <td>27.5515</td>\n      <td>27.2677</td>\n    </tr>\n    <tr>\n      <th>30</th>\n      <td>R01235</td>\n      <td>840</td>\n      <td>USD</td>\n      <td>1</td>\n      <td>Доллар США</td>\n      <td>78.0915</td>\n      <td>77.2774</td>\n    </tr>\n    <tr>\n      <th>31</th>\n      <td>R01717</td>\n      <td>860</td>\n      <td>UZS</td>\n      <td>10000</td>\n      <td>Узбекских сумов</td>\n      <td>76.0533</td>\n      <td>74.8724</td>\n    </tr>\n    <tr>\n      <th>32</th>\n      <td>R01589</td>\n      <td>960</td>\n      <td>XDR</td>\n      <td>1</td>\n      <td>СДР (специальные права заимствования)</td>\n      <td>110.1496</td>\n      <td>108.7733</td>\n    </tr>\n    <tr>\n      <th>33</th>\n      <td>R01810</td>\n      <td>710</td>\n      <td>ZAR</td>\n      <td>10</td>\n      <td>Южноафриканских рэндов</td>\n      <td>46.8661</td>\n      <td>46.5743</td>\n    </tr>\n  </tbody>\n</table>\n</div>"
     },
     "metadata": {},
     "execution_count": 80
    }
   ],
   "source": [
    "import pandas as pd \n",
    "url = 'https://www.cbr-xml-daily.ru/daily_json.js'\n",
    "dfs = pd.read_json(url)\n",
    "valutes = pd.DataFrame(dfs['Valute'].tolist())\n",
    "valutes\n",
    "# valutes[valutes['Value'] == valutes['Value'].max()]['Name'].tolist()[0]"
   ]
  },
  {
   "source": [
    "# Задание 2\n",
    "Добавьте в класс Rate параметр diff (со значениями True или False), который в случае значения True в методах курсов валют (eur, usd итд) будет возвращать не курс валюты, а изменение по сравнению в прошлым значением. Считайте, self.diff будет принимать значение True только при возврате значения курса. При отображении всей информации о валюте он не используется."
   ],
   "cell_type": "markdown",
   "metadata": {}
  },
  {
   "cell_type": "code",
   "execution_count": 112,
   "metadata": {},
   "outputs": [],
   "source": [
    "# класс Rate\n",
    "class Rate():\n",
    "    def __init__(self, id, numcode, charcode, nominal, name, value, previous, diff=False):\n",
    "        self.id = id\n",
    "        self.numcode = numcode\n",
    "        self.charcode = charcode\n",
    "        self.nominal = nominal\n",
    "        self.name = name\n",
    "        self.value = value\n",
    "        self.previous = previous\n",
    "        self.diff = diff\n",
    "\n",
    "    def all_information(self):\n",
    "        print('---Общая информация о валюте \"{}\"---'.format(self.name))\n",
    "        print('ID: {}'.format(self.id))\n",
    "        print('Номер: {}'.format(self.numcode))\n",
    "        print('Код: {}'.format(self.charcode))\n",
    "        print('Номинал: {}'.format(self.nominal))\n",
    "        print('Текущее значение: {}'.format(self.value))\n",
    "        print('Предыдущее значение: {}\\n'.format(self.previous))\n",
    "    \n",
    "    def diff_delta(self):\n",
    "        return self.value - self.previous if self.diff else self.value\n",
    "    \n",
    "    def course_info(self):\n",
    "        info_label = 'Текущий курс: '\n",
    "        if self.diff:\n",
    "            sign = '+' if self.diff_delta() > 0 else ''\n",
    "            info_label = 'Изменение: '+sign\n",
    "        print('{}{}'.format(info_label, self.diff_delta()))\n",
    "        "
   ]
  },
  {
   "cell_type": "code",
   "execution_count": 114,
   "metadata": {
    "tags": []
   },
   "outputs": [
    {
     "output_type": "stream",
     "name": "stdout",
     "text": "---Общая информация о валюте \"Доллары\"---\nID: 01\nНомер: 01\nКод: USD\nНоминал: 1000\nТекущее значение: 131\nПредыдущее значение: 120\n\nТекущий курс: 131\n"
    }
   ],
   "source": [
    "# Валюта с diff=Flase - только информация о текущем значении\n",
    "usd = Rate('01', '01', 'USD', 1000, 'Доллары', 131, 120, False)\n",
    "usd.all_information()\n",
    "usd.course_info()"
   ]
  },
  {
   "cell_type": "code",
   "execution_count": 115,
   "metadata": {
    "tags": []
   },
   "outputs": [
    {
     "output_type": "stream",
     "name": "stdout",
     "text": "---Общая информация о валюте \"Доллары\"---\nID: 01\nНомер: 01\nКод: USD\nНоминал: 1000\nТекущее значение: 131\nПредыдущее значение: 120\n\nИзменение: +11\n"
    }
   ],
   "source": [
    "# Валюта с diff=True - добавляется информация об изменении валюты (дельта)\n",
    "usd = Rate('01', '01', 'USD', 1000, 'Доллары', 131, 120, True)\n",
    "usd.all_information()\n",
    "usd.course_info()"
   ]
  },
  {
   "source": [
    "# Задание 3\n",
    "Напишите класс Designer, который учитывает количество международных премий для дизайнеров (из презентации: \"Повышение на 1 грейд за каждые 7 баллов. Получение международной премии – это +2 балла\" для каждой аккредитации увеличиваем счетчик на 1, пока считаем, что все дизайнеры проходят аккредитацию). Считайте, что при выходе на работу сотрудник уже имеет две премии и их количество меняется со стажем (получение премии генератор случайных чисел ). Выполните проверку для 20 аккредитаций дизайнера Елены. Подсказки в коде занятия в разделе “Домашнее задание задача 3”."
   ],
   "cell_type": "markdown",
   "metadata": {}
  },
  {
   "cell_type": "code",
   "execution_count": 126,
   "metadata": {},
   "outputs": [],
   "source": [
    "class Designer():\n",
    "    def __init__(self, name, seniority=0,awards=0):\n",
    "        self.name = name\n",
    "        self.seniority = seniority\n",
    "        self.awards = awards\n",
    "        self.score = awards*2\n",
    "    \n",
    "    def acreditation(self):\n",
    "        print('Акредитация пройдена! (+1 балл)')\n",
    "        self.score += 1\n",
    "    \n",
    "    def add_award(self):\n",
    "        self.awards += 1\n",
    "        self.score += 2\n",
    "    \n",
    "    def upgrade(self):\n",
    "        self.seniority = self.score // 7\n",
    "    \n",
    "    def info(self):\n",
    "        print('\\n---Информация о дизайнере {}---'.format(self.name))\n",
    "        print('Грейд: {}'.format(self.seniority))\n",
    "        print('Наград: {}\\n'.format(self.awards))"
   ]
  },
  {
   "cell_type": "code",
   "execution_count": 127,
   "metadata": {
    "tags": []
   },
   "outputs": [
    {
     "output_type": "stream",
     "name": "stdout",
     "text": "\n---Информация о дизайнере Елена---\nГрейд: 0\nНаград: 2\n\nАкредитация пройдена! (+1 балл)\nАкредитация пройдена! (+1 балл)\nАкредитация пройдена! (+1 балл)\nАкредитация пройдена! (+1 балл)\nАкредитация пройдена! (+1 балл)\nАкредитация пройдена! (+1 балл)\nАкредитация пройдена! (+1 балл)\nАкредитация пройдена! (+1 балл)\nАкредитация пройдена! (+1 балл)\nАкредитация пройдена! (+1 балл)\nАкредитация пройдена! (+1 балл)\nАкредитация пройдена! (+1 балл)\nАкредитация пройдена! (+1 балл)\nАкредитация пройдена! (+1 балл)\nАкредитация пройдена! (+1 балл)\nАкредитация пройдена! (+1 балл)\nАкредитация пройдена! (+1 балл)\nАкредитация пройдена! (+1 балл)\nАкредитация пройдена! (+1 балл)\nАкредитация пройдена! (+1 балл)\n\n---Информация о дизайнере Елена---\nГрейд: 3\nНаград: 2\n\n"
    }
   ],
   "source": [
    "# код проверки\n",
    "elena = Designer('Елена', seniority=0, awards=2)\n",
    "elena.info()\n",
    "\n",
    "for i in range(20):\n",
    "    elena.acreditation()\n",
    "\n",
    "elena.upgrade()\n",
    "elena.info()\n"
   ]
  },
  {
   "cell_type": "code",
   "execution_count": null,
   "metadata": {},
   "outputs": [],
   "source": []
  }
 ]
}