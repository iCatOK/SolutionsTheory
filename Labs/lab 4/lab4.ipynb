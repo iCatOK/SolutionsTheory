{
 "metadata": {
  "language_info": {
   "codemirror_mode": {
    "name": "ipython",
    "version": 3
   },
   "file_extension": ".py",
   "mimetype": "text/x-python",
   "name": "python",
   "nbconvert_exporter": "python",
   "pygments_lexer": "ipython3",
   "version": "3.8.5-final"
  },
  "orig_nbformat": 2,
  "kernelspec": {
   "name": "Python 3.8.5 64-bit",
   "display_name": "Python 3.8.5 64-bit",
   "metadata": {
    "interpreter": {
     "hash": "c74d625a622eb7faed69d51549854ab07b21b89a52f349e19c6e417b21491d19"
    }
   }
  }
 },
 "nbformat": 4,
 "nbformat_minor": 2,
 "cells": [
  {
   "source": [
    "# Задание 1"
   ],
   "cell_type": "markdown",
   "metadata": {
    "tags": []
   }
  },
  {
   "source": [
    "Печатные газеты использовали свой формат дат для каждого выпуска. Для каждой газеты из списка напишите формат указанной даты для перевода в объект datetime:\n",
    "- The Moscow Times - Wednesday, October 2, 2002\n",
    "- The Guardian - Friday, 11.10.13\n",
    "- Daily News - Thursday, 18 August 1977"
   ],
   "cell_type": "markdown",
   "metadata": {}
  },
  {
   "cell_type": "code",
   "execution_count": 30,
   "metadata": {
    "tags": []
   },
   "outputs": [
    {
     "output_type": "stream",
     "name": "stdout",
     "text": "DateTime для The Moscow Times (Wednesday, October 2, 2002)\n2002-10-02 00:00:00\n\nDateTime для The Guardian (Friday, 11.10.13)\n2013-10-11 00:00:00\n\nDateTime для Daily News (Thursday, 18 August 1977)\n1977-08-18 00:00:00\n\n"
    }
   ],
   "source": [
    "from datetime import datetime, timedelta\n",
    "\n",
    "the_moscow_times = 'Wednesday, October 2, 2002'\n",
    "the_guardian = 'Friday, 11.10.13'\n",
    "daily_news = 'Thursday, 18 August 1977'\n",
    "\n",
    "tmt_format = '%A, %B %d, %Y'\n",
    "tg_format = '%A, %d.%m.%y'\n",
    "dn_format = '%A, %d %B %Y'\n",
    "\n",
    "d1 = datetime.strptime(the_moscow_times, tmt_format)\n",
    "d2 = datetime.strptime(the_guardian, tg_format)\n",
    "d3 = datetime.strptime(daily_news, dn_format)\n",
    "\n",
    "\n",
    "print('DateTime для The Moscow Times ({})\\n{}\\n'.format(the_moscow_times, d1))\n",
    "print('DateTime для The Guardian ({})\\n{}\\n'.format(the_guardian, d2))\n",
    "print('DateTime для Daily News ({})\\n{}\\n'.format(daily_news, d3))\n",
    "\n"
   ]
  },
  {
   "source": [
    "# Задание 2\n"
   ],
   "cell_type": "markdown",
   "metadata": {}
  },
  {
   "source": [
    "Дан поток дат в формате YYYY-MM-DD, в которых встречаются некорректные значения:"
   ],
   "cell_type": "markdown",
   "metadata": {}
  },
  {
   "source": [
    "stream = ['2018-04-02', '2018-02-29', '2018-19-02']"
   ],
   "cell_type": "code",
   "metadata": {},
   "execution_count": 7,
   "outputs": []
  },
  {
   "source": [
    "Напишите функцию, которая проверяет эти даты на корректность. Т. е. для каждой даты возвращает True (дата корректна) или False (некорректная дата)."
   ],
   "cell_type": "markdown",
   "metadata": {}
  },
  {
   "cell_type": "code",
   "execution_count": 8,
   "metadata": {},
   "outputs": [],
   "source": [
    "date_format = '%Y-%m-%d'"
   ]
  },
  {
   "cell_type": "code",
   "execution_count": 14,
   "metadata": {},
   "outputs": [],
   "source": [
    "def check_format(format, date_str):\n",
    "    try:\n",
    "        datetime.strptime(date_str, format)\n",
    "        return True\n",
    "    except:\n",
    "        return False"
   ]
  },
  {
   "cell_type": "code",
   "execution_count": 23,
   "metadata": {
    "tags": []
   },
   "outputs": [
    {
     "output_type": "stream",
     "name": "stdout",
     "text": "Checking date <2018-04-02>: True\nChecking date <2018-02-29>: False\nChecking date <2018-19-02>: False\n"
    }
   ],
   "source": [
    "for i in stream:\n",
    "    print('Checking date <{}>: {}'.format(i, check_format(date_format, i)))\n"
   ]
  },
  {
   "source": [
    "# Задание 3"
   ],
   "cell_type": "markdown",
   "metadata": {}
  },
  {
   "source": [
    "Напишите функцию date_range, которая возвращает список дат за период от start_date до end_date. Даты должны вводиться в формате YYYY-MM-DD. В случае неверного формата или при start_date > end_date должен возвращаться пустой список."
   ],
   "cell_type": "markdown",
   "metadata": {}
  },
  {
   "cell_type": "code",
   "execution_count": 24,
   "metadata": {},
   "outputs": [],
   "source": [
    "date_format = '%Y-%m-%d'"
   ]
  },
  {
   "cell_type": "code",
   "execution_count": 46,
   "metadata": {
    "tags": []
   },
   "outputs": [],
   "source": [
    "def date_range(start_date_str, end_date_str, format):\n",
    "    date_list = []\n",
    "    try:\n",
    "        start_date = datetime.strptime(start_date_str, format)\n",
    "        end_date = datetime.strptime(end_date_str, format)\n",
    "        \n",
    "        if start_date > end_date:\n",
    "            return date_list\n",
    "        \n",
    "        for i in range((end_date - start_date).days + 1):\n",
    "            date_list.append((start_date + timedelta(i)).strftime(format))\n",
    "        \n",
    "        return date_list\n",
    "              \n",
    "    except:\n",
    "        return date_list\n",
    "    "
   ]
  },
  {
   "source": [
    "Удачный вызов:"
   ],
   "cell_type": "markdown",
   "metadata": {}
  },
  {
   "cell_type": "code",
   "execution_count": 47,
   "metadata": {},
   "outputs": [
    {
     "output_type": "execute_result",
     "data": {
      "text/plain": "['2013-09-09', '2013-09-10', '2013-09-11', '2013-09-12', '2013-09-13']"
     },
     "metadata": {},
     "execution_count": 47
    }
   ],
   "source": [
    "date_range('2013-09-09', '2013-09-13', date_format)"
   ]
  },
  {
   "source": [
    "Вызов при неправильном формате:"
   ],
   "cell_type": "markdown",
   "metadata": {}
  },
  {
   "cell_type": "code",
   "execution_count": 48,
   "metadata": {},
   "outputs": [
    {
     "output_type": "execute_result",
     "data": {
      "text/plain": "[]"
     },
     "metadata": {},
     "execution_count": 48
    }
   ],
   "source": [
    "date_range('2013-111-09', '2013-09-13', date_format)"
   ]
  },
  {
   "source": [
    "Вызов, если стартовая дата старше конечной даты:"
   ],
   "cell_type": "markdown",
   "metadata": {}
  },
  {
   "cell_type": "code",
   "execution_count": 49,
   "metadata": {},
   "outputs": [
    {
     "output_type": "execute_result",
     "data": {
      "text/plain": "[]"
     },
     "metadata": {},
     "execution_count": 49
    }
   ],
   "source": [
    "date_range('2013-09-13', '2013-09-09', date_format)"
   ]
  },
  {
   "source": [
    "# Задание 4"
   ],
   "cell_type": "markdown",
   "metadata": {}
  },
  {
   "cell_type": "code",
   "execution_count": 43,
   "metadata": {},
   "outputs": [],
   "source": [
    "DEFAULT_USER_COUNT = 3\n",
    "\n",
    "def delete_and_return_last_user(region, default_list=['A100', 'A101', 'A102']):\n",
    "    \"\"\"\n",
    "    Удаляет из списка default_list последнего пользователя\n",
    "    и возвращает ID нового последнего пользователя.\n",
    "    \"\"\"\n",
    "    element_to_delete = default_list[-1]\n",
    "    default_list.remove(element_to_delete)\n",
    "    return default_list[DEFAULT_USER_COUNT-2]"
   ]
  },
  {
   "source": [
    "При однократном вызове этой функции все работает корректно:"
   ],
   "cell_type": "markdown",
   "metadata": {}
  },
  {
   "cell_type": "code",
   "execution_count": 44,
   "metadata": {
    "tags": []
   },
   "outputs": [
    {
     "output_type": "execute_result",
     "data": {
      "text/plain": "'A101'"
     },
     "metadata": {},
     "execution_count": 44
    }
   ],
   "source": [
    "delete_and_return_last_user(1)"
   ]
  },
  {
   "source": [
    "Однако, при повторном вызове получается ошибка IndexError: list index out of range."
   ],
   "cell_type": "markdown",
   "metadata": {}
  },
  {
   "cell_type": "code",
   "execution_count": 45,
   "metadata": {},
   "outputs": [
    {
     "output_type": "error",
     "ename": "IndexError",
     "evalue": "list index out of range",
     "traceback": [
      "\u001b[1;31m---------------------------------------------------------------------------\u001b[0m",
      "\u001b[1;31mIndexError\u001b[0m                                Traceback (most recent call last)",
      "\u001b[1;32m<ipython-input-45-bfb6c4f8c48e>\u001b[0m in \u001b[0;36m<module>\u001b[1;34m\u001b[0m\n\u001b[1;32m----> 1\u001b[1;33m \u001b[0mdelete_and_return_last_user\u001b[0m\u001b[1;33m(\u001b[0m\u001b[1;36m1\u001b[0m\u001b[1;33m)\u001b[0m\u001b[1;33m\u001b[0m\u001b[1;33m\u001b[0m\u001b[0m\n\u001b[0m",
      "\u001b[1;32m<ipython-input-43-59a639cbf838>\u001b[0m in \u001b[0;36mdelete_and_return_last_user\u001b[1;34m(region, default_list)\u001b[0m\n\u001b[0;32m      8\u001b[0m     \u001b[0melement_to_delete\u001b[0m \u001b[1;33m=\u001b[0m \u001b[0mdefault_list\u001b[0m\u001b[1;33m[\u001b[0m\u001b[1;33m-\u001b[0m\u001b[1;36m1\u001b[0m\u001b[1;33m]\u001b[0m\u001b[1;33m\u001b[0m\u001b[1;33m\u001b[0m\u001b[0m\n\u001b[0;32m      9\u001b[0m     \u001b[0mdefault_list\u001b[0m\u001b[1;33m.\u001b[0m\u001b[0mremove\u001b[0m\u001b[1;33m(\u001b[0m\u001b[0melement_to_delete\u001b[0m\u001b[1;33m)\u001b[0m\u001b[1;33m\u001b[0m\u001b[1;33m\u001b[0m\u001b[0m\n\u001b[1;32m---> 10\u001b[1;33m     \u001b[1;32mreturn\u001b[0m \u001b[0mdefault_list\u001b[0m\u001b[1;33m[\u001b[0m\u001b[0mDEFAULT_USER_COUNT\u001b[0m\u001b[1;33m-\u001b[0m\u001b[1;36m2\u001b[0m\u001b[1;33m]\u001b[0m\u001b[1;33m\u001b[0m\u001b[1;33m\u001b[0m\u001b[0m\n\u001b[0m",
      "\u001b[1;31mIndexError\u001b[0m: list index out of range"
     ]
    }
   ],
   "source": [
    "delete_and_return_last_user(1)"
   ]
  },
  {
   "source": [
    "\n",
    "Задание:\n",
    "\n",
    "Что значит ошибка list index out of range?\n",
    "Почему при первом запуске функция работает корректно, а при втором - нет?"
   ],
   "cell_type": "markdown",
   "metadata": {}
  },
  {
   "source": [
    "## Ответ\n",
    "List index out of range - ошибка, которая возникает при попытке вызвать элемент, индекс которого лежит за пределами границы массива (больше индекса последнего элемента). Так как значение DEFAULT_USER_COUNT не меняется после удаления элемента массива, при повторном вызове функции происходит следующее:\n",
    "    \n",
    "    1) удаляется второй элемент массива (по индексу первый)\n",
    "    2) производится попытка вернуть значение массива по индексу 1 (DEFAULT_USER_COUNT = 3, из него вычитается 2)\n",
    "    3) попытка провалена из-за того, что нет такого элемента, единственный элемент имеет индекс 0 - выход за границы массива\n",
    "Вариант исправления - вычитать из DEFAULT_USER_COUNT единицу, до того, как возвращать элемент массива.\n"
   ],
   "cell_type": "markdown",
   "metadata": {}
  },
  {
   "cell_type": "code",
   "execution_count": null,
   "metadata": {},
   "outputs": [],
   "source": []
  }
 ]
}