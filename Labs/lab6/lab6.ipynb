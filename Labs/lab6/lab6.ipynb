{
 "metadata": {
  "language_info": {
   "codemirror_mode": {
    "name": "ipython",
    "version": 3
   },
   "file_extension": ".py",
   "mimetype": "text/x-python",
   "name": "python",
   "nbconvert_exporter": "python",
   "pygments_lexer": "ipython3",
   "version": "3.8.5-final"
  },
  "orig_nbformat": 2,
  "kernelspec": {
   "name": "Python 3.8.5 64-bit",
   "display_name": "Python 3.8.5 64-bit",
   "metadata": {
    "interpreter": {
     "hash": "c74d625a622eb7faed69d51549854ab07b21b89a52f349e19c6e417b21491d19"
    }
   }
  }
 },
 "nbformat": 4,
 "nbformat_minor": 2,
 "cells": [
  {
   "source": [
    "# Задание 1\n",
    "\n"
   ],
   "cell_type": "markdown",
   "metadata": {
    "tags": []
   }
  },
  {
   "cell_type": "code",
   "execution_count": 2,
   "metadata": {},
   "outputs": [],
   "source": [
    "import pandas as pd"
   ]
  },
  {
   "cell_type": "code",
   "execution_count": 7,
   "metadata": {
    "tags": []
   },
   "outputs": [
    {
     "output_type": "stream",
     "name": "stdout",
     "text": "movieId  count\n"
    },
    {
     "output_type": "execute_result",
     "data": {
      "text/plain": "318    153\nName: movieId, dtype: int64"
     },
     "metadata": {},
     "execution_count": 7
    }
   ],
   "source": [
    "ratings_df = pd.read_csv('ratings.csv')\n",
    "print('movieId  count')\n",
    "ratings_df[(ratings_df['rating']==5.0)]['movieId'].value_counts()[0:1]"
   ]
  },
  {
   "source": [
    "# Задание 2"
   ],
   "cell_type": "markdown",
   "metadata": {}
  },
  {
   "cell_type": "code",
   "execution_count": 30,
   "metadata": {},
   "outputs": [
    {
     "output_type": "execute_result",
     "data": {
      "text/plain": "240580.0"
     },
     "metadata": {},
     "execution_count": 30
    }
   ],
   "source": [
    "power_df = pd.read_csv('power.csv')\n",
    "baltica_df = power_df[\n",
    "     (power_df['country']=='Estonia') | \n",
    "     (power_df['country']=='Latvia') |\n",
    "     (power_df['country']=='Lithuania')\n",
    "]\n",
    "year_filtered_baltica = baltica_df[\n",
    "    (baltica_df['year'] >= 2005) &\n",
    "    (baltica_df['year'] <= 2010)\n",
    "] \n",
    "result_baltica = year_filtered_baltica[\n",
    "    (year_filtered_baltica['category'] == 4) |\n",
    "    (year_filtered_baltica['category'] == 12) |\n",
    "    (year_filtered_baltica['category'] == 21)\n",
    "]\n",
    "result_baltica_positive = result_baltica[\n",
    "    (result_baltica['quantity'] >= 0)\n",
    "]\n",
    "sum(result_baltica_positive['quantity'])"
   ]
  },
  {
   "source": [
    "# Задание 3"
   ],
   "cell_type": "markdown",
   "metadata": {}
  },
  {
   "cell_type": "code",
   "execution_count": 29,
   "metadata": {},
   "outputs": [
    {
     "output_type": "execute_result",
     "data": {
      "text/plain": "[       Дата  Закрытие  Открытие  Максимум  Минимум\n 0  14.10.20    776813    770525    777988   769234\n 1  13.10.20    770510    771364    774260   768622\n 2  12.10.20    771350    769195    772590   767210\n 3  11.10.20    769245    767705    769445   767705\n 4  09.10.20    767715    773021    774225   766610\n 5  08.10.20    773022    780681    781527   772860\n 6  07.10.20    780645    784554    785188   779101\n 7  06.10.20    784553    781355    786637   776190\n 8  05.10.20    781354    783345    788800   778384,\n        Имя  Unnamed: 1     %     курс                 Дата\n 0  EUR/RUB         NaN    11    91258  15.10.2020 08:07:00\n 1  USD/RUB         NaN  -534   776398  15.10.2020 08:06:00\n 2  CHF/RUB         NaN  -205   850381  15.10.2020 08:07:00\n 3  JPY/RUB         NaN -2071     7375  15.10.2020 08:07:00\n 4  GBP/RUB         NaN  -149  1011103  15.10.2020 08:08:00\n 5  NOK/RUB         NaN -1171     8397  15.10.2020 08:07:00\n 6  AUD/RUB         NaN -4717   554115  15.10.2020 08:07:00\n 7  NZD/RUB         NaN -2183   516382  15.10.2020 08:07:00\n 8  TRY/RUB         NaN -2513    97965  15.10.2020 08:07:00]"
     },
     "metadata": {},
     "execution_count": 29
    }
   ],
   "source": [
    "url = 'https://www.finanz.ru/valyuty/usd-rub'\n",
    "table_df = pd.read_html(url, attrs = {'class': 'news_table'}, encoding='utf-8')\n",
    "table_df"
   ]
  },
  {
   "source": [
    "# Задание 4"
   ],
   "cell_type": "markdown",
   "metadata": {}
  },
  {
   "cell_type": "code",
   "execution_count": 31,
   "metadata": {},
   "outputs": [],
   "source": [
    "def classic(rating):\n",
    "    if rating <= 2:\n",
    "        return 'low'\n",
    "    if 2 < rating <= 4.5:\n",
    "        return 'medium'\n",
    "    if 4.5 < rating <= 5:\n",
    "        return 'high'"
   ]
  },
  {
   "cell_type": "code",
   "execution_count": 35,
   "metadata": {},
   "outputs": [
    {
     "output_type": "execute_result",
     "data": {
      "text/plain": "   userId  movieId  rating  timestamp quality\n0       1        1     4.0  964982703  medium\n1       1        3     4.0  964981247  medium\n2       1        6     4.0  964982224  medium\n3       1       47     5.0  964983815    high\n4       1       50     5.0  964982931    high",
      "text/html": "<div>\n<style scoped>\n    .dataframe tbody tr th:only-of-type {\n        vertical-align: middle;\n    }\n\n    .dataframe tbody tr th {\n        vertical-align: top;\n    }\n\n    .dataframe thead th {\n        text-align: right;\n    }\n</style>\n<table border=\"1\" class=\"dataframe\">\n  <thead>\n    <tr style=\"text-align: right;\">\n      <th></th>\n      <th>userId</th>\n      <th>movieId</th>\n      <th>rating</th>\n      <th>timestamp</th>\n      <th>quality</th>\n    </tr>\n  </thead>\n  <tbody>\n    <tr>\n      <th>0</th>\n      <td>1</td>\n      <td>1</td>\n      <td>4.0</td>\n      <td>964982703</td>\n      <td>medium</td>\n    </tr>\n    <tr>\n      <th>1</th>\n      <td>1</td>\n      <td>3</td>\n      <td>4.0</td>\n      <td>964981247</td>\n      <td>medium</td>\n    </tr>\n    <tr>\n      <th>2</th>\n      <td>1</td>\n      <td>6</td>\n      <td>4.0</td>\n      <td>964982224</td>\n      <td>medium</td>\n    </tr>\n    <tr>\n      <th>3</th>\n      <td>1</td>\n      <td>47</td>\n      <td>5.0</td>\n      <td>964983815</td>\n      <td>high</td>\n    </tr>\n    <tr>\n      <th>4</th>\n      <td>1</td>\n      <td>50</td>\n      <td>5.0</td>\n      <td>964982931</td>\n      <td>high</td>\n    </tr>\n  </tbody>\n</table>\n</div>"
     },
     "metadata": {},
     "execution_count": 35
    }
   ],
   "source": [
    "ratings_df['quality'] = ratings_df['rating'].apply(classic)\n",
    "ratings_df.head()"
   ]
  },
  {
   "source": [
    "# Задание 5"
   ],
   "cell_type": "markdown",
   "metadata": {}
  },
  {
   "cell_type": "code",
   "execution_count": 49,
   "metadata": {},
   "outputs": [],
   "source": [
    "keywords_df = pd.read_csv('keywords.csv')\n",
    "\n",
    "geo_data = {\n",
    "    'Центр': ['москва', 'тула', 'ярославль'],\n",
    "    'Северо-Запад': ['петербург', 'псков', 'мурманск'],\n",
    "    'Дальний Восток': ['владивосток', 'сахалин', 'хабаровск']\n",
    "}"
   ]
  },
  {
   "cell_type": "code",
   "execution_count": 43,
   "metadata": {},
   "outputs": [],
   "source": [
    "def geo_classic(city):\n",
    "    for region, cities in geo_data.items():\n",
    "        if city in cities:\n",
    "            return region\n",
    "    return 'undefined'"
   ]
  },
  {
   "cell_type": "code",
   "execution_count": 48,
   "metadata": {},
   "outputs": [
    {
     "output_type": "execute_result",
     "data": {
      "text/plain": "         keyword   shows region\n1259      москва  153050  Центр\n6075   ярославль   41720  Центр\n11785       тула   23898  Центр",
      "text/html": "<div>\n<style scoped>\n    .dataframe tbody tr th:only-of-type {\n        vertical-align: middle;\n    }\n\n    .dataframe tbody tr th {\n        vertical-align: top;\n    }\n\n    .dataframe thead th {\n        text-align: right;\n    }\n</style>\n<table border=\"1\" class=\"dataframe\">\n  <thead>\n    <tr style=\"text-align: right;\">\n      <th></th>\n      <th>keyword</th>\n      <th>shows</th>\n      <th>region</th>\n    </tr>\n  </thead>\n  <tbody>\n    <tr>\n      <th>1259</th>\n      <td>москва</td>\n      <td>153050</td>\n      <td>Центр</td>\n    </tr>\n    <tr>\n      <th>6075</th>\n      <td>ярославль</td>\n      <td>41720</td>\n      <td>Центр</td>\n    </tr>\n    <tr>\n      <th>11785</th>\n      <td>тула</td>\n      <td>23898</td>\n      <td>Центр</td>\n    </tr>\n  </tbody>\n</table>\n</div>"
     },
     "metadata": {},
     "execution_count": 48
    }
   ],
   "source": [
    "keywords_df['region'] = keywords_df['keyword'].apply(geo_classic)\n",
    "keywords_df[( keywords_df['region'] == 'Центр' )]"
   ]
  },
  {
   "source": [
    "# Задание 6"
   ],
   "cell_type": "markdown",
   "metadata": {}
  },
  {
   "cell_type": "code",
   "execution_count": 63,
   "metadata": {},
   "outputs": [],
   "source": [
    "import datetime, time\n",
    "def return_year(timestamp):\n",
    "    return datetime.datetime.fromtimestamp(timestamp).year"
   ]
  },
  {
   "cell_type": "code",
   "execution_count": 64,
   "metadata": {},
   "outputs": [],
   "source": [
    "ratings_df['year'] = ratings_df['timestamp'].apply(return_year)\n"
   ]
  },
  {
   "cell_type": "code",
   "execution_count": 73,
   "metadata": {},
   "outputs": [
    {
     "output_type": "execute_result",
     "data": {
      "text/plain": "        rating\nyear          \n2013  3.877404\n2011  3.784024\n1999  3.772448\n1997  3.727557\n2016  3.686586\n2008  3.655704\n2012  3.641078\n2002  3.606958\n1996  3.535927\n2015  3.513830\n2001  3.512239\n2014  3.510771\n2004  3.506099\n2003  3.499377\n2006  3.487928\n2010  3.463711\n1998  3.435897\n2005  3.431533\n2009  3.393827\n2000  3.392506\n2018  3.389062\n2017  3.348640\n2007  3.309028",
      "text/html": "<div>\n<style scoped>\n    .dataframe tbody tr th:only-of-type {\n        vertical-align: middle;\n    }\n\n    .dataframe tbody tr th {\n        vertical-align: top;\n    }\n\n    .dataframe thead th {\n        text-align: right;\n    }\n</style>\n<table border=\"1\" class=\"dataframe\">\n  <thead>\n    <tr style=\"text-align: right;\">\n      <th></th>\n      <th>rating</th>\n    </tr>\n    <tr>\n      <th>year</th>\n      <th></th>\n    </tr>\n  </thead>\n  <tbody>\n    <tr>\n      <th>2013</th>\n      <td>3.877404</td>\n    </tr>\n    <tr>\n      <th>2011</th>\n      <td>3.784024</td>\n    </tr>\n    <tr>\n      <th>1999</th>\n      <td>3.772448</td>\n    </tr>\n    <tr>\n      <th>1997</th>\n      <td>3.727557</td>\n    </tr>\n    <tr>\n      <th>2016</th>\n      <td>3.686586</td>\n    </tr>\n    <tr>\n      <th>2008</th>\n      <td>3.655704</td>\n    </tr>\n    <tr>\n      <th>2012</th>\n      <td>3.641078</td>\n    </tr>\n    <tr>\n      <th>2002</th>\n      <td>3.606958</td>\n    </tr>\n    <tr>\n      <th>1996</th>\n      <td>3.535927</td>\n    </tr>\n    <tr>\n      <th>2015</th>\n      <td>3.513830</td>\n    </tr>\n    <tr>\n      <th>2001</th>\n      <td>3.512239</td>\n    </tr>\n    <tr>\n      <th>2014</th>\n      <td>3.510771</td>\n    </tr>\n    <tr>\n      <th>2004</th>\n      <td>3.506099</td>\n    </tr>\n    <tr>\n      <th>2003</th>\n      <td>3.499377</td>\n    </tr>\n    <tr>\n      <th>2006</th>\n      <td>3.487928</td>\n    </tr>\n    <tr>\n      <th>2010</th>\n      <td>3.463711</td>\n    </tr>\n    <tr>\n      <th>1998</th>\n      <td>3.435897</td>\n    </tr>\n    <tr>\n      <th>2005</th>\n      <td>3.431533</td>\n    </tr>\n    <tr>\n      <th>2009</th>\n      <td>3.393827</td>\n    </tr>\n    <tr>\n      <th>2000</th>\n      <td>3.392506</td>\n    </tr>\n    <tr>\n      <th>2018</th>\n      <td>3.389062</td>\n    </tr>\n    <tr>\n      <th>2017</th>\n      <td>3.348640</td>\n    </tr>\n    <tr>\n      <th>2007</th>\n      <td>3.309028</td>\n    </tr>\n  </tbody>\n</table>\n</div>"
     },
     "metadata": {},
     "execution_count": 73
    }
   ],
   "source": [
    "rating_by_year = ratings_df[['year', 'rating']]\n",
    "rating_by_year.groupby('year').mean().sort_values('rating', ascending=False)"
   ]
  },
  {
   "cell_type": "code",
   "execution_count": null,
   "metadata": {},
   "outputs": [],
   "source": []
  }
 ]
}