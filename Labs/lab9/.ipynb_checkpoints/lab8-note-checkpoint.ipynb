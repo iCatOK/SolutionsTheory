{
 "cells": [
  {
   "cell_type": "code",
   "execution_count": 1,
   "metadata": {},
   "outputs": [],
   "source": [
    "# ключевые слова\n",
    "KEYWORDS = ['python', 'парсинг']"
   ]
  },
  {
   "cell_type": "code",
   "execution_count": 2,
   "metadata": {},
   "outputs": [],
   "source": [
    "import requests\n",
    "from bs4 import BeautifulSoup"
   ]
  },
  {
   "cell_type": "code",
   "execution_count": 11,
   "metadata": {},
   "outputs": [],
   "source": [
    "# страница с ключевыми словами\n",
    "\n",
    "q = '+'.join(KEYWORDS)\n",
    "url = 'https://habr.com/ru/search/page1/?q={}&target_type=posts&flow=&order_by=relevance'.format(q)\n",
    "\n",
    "req = requests.get(url)\n",
    "soup = BeautifulSoup(req.text, 'html.parser')"
   ]
  },
  {
   "cell_type": "code",
   "execution_count": 37,
   "metadata": {},
   "outputs": [
    {
     "data": {
      "text/plain": [
       "['https://habr.com/ru/search/page1/?q=python+парсинг&target_type=posts&flow=&order_by=relevance',\n",
       " 'https://habr.com/ru/search/page2/?q=python+парсинг&target_type=posts&flow=&order_by=relevance',\n",
       " 'https://habr.com/ru/search/page3/?q=python+парсинг&target_type=posts&flow=&order_by=relevance',\n",
       " 'https://habr.com/ru/search/page4/?q=python+парсинг&target_type=posts&flow=&order_by=relevance',\n",
       " 'https://habr.com/ru/search/page5/?q=python+парсинг&target_type=posts&flow=&order_by=relevance',\n",
       " 'https://habr.com/ru/search/page6/?q=python+парсинг&target_type=posts&flow=&order_by=relevance',\n",
       " 'https://habr.com/ru/search/page7/?q=python+парсинг&target_type=posts&flow=&order_by=relevance',\n",
       " 'https://habr.com/ru/search/page8/?q=python+парсинг&target_type=posts&flow=&order_by=relevance',\n",
       " 'https://habr.com/ru/search/page9/?q=python+парсинг&target_type=posts&flow=&order_by=relevance',\n",
       " 'https://habr.com/ru/search/page10/?q=python+парсинг&target_type=posts&flow=&order_by=relevance',\n",
       " 'https://habr.com/ru/search/page11/?q=python+парсинг&target_type=posts&flow=&order_by=relevance',\n",
       " 'https://habr.com/ru/search/page12/?q=python+парсинг&target_type=posts&flow=&order_by=relevance',\n",
       " 'https://habr.com/ru/search/page13/?q=python+парсинг&target_type=posts&flow=&order_by=relevance',\n",
       " 'https://habr.com/ru/search/page14/?q=python+парсинг&target_type=posts&flow=&order_by=relevance',\n",
       " 'https://habr.com/ru/search/page15/?q=python+парсинг&target_type=posts&flow=&order_by=relevance',\n",
       " 'https://habr.com/ru/search/page16/?q=python+парсинг&target_type=posts&flow=&order_by=relevance',\n",
       " 'https://habr.com/ru/search/page17/?q=python+парсинг&target_type=posts&flow=&order_by=relevance',\n",
       " 'https://habr.com/ru/search/page18/?q=python+парсинг&target_type=posts&flow=&order_by=relevance',\n",
       " 'https://habr.com/ru/search/page19/?q=python+парсинг&target_type=posts&flow=&order_by=relevance',\n",
       " 'https://habr.com/ru/search/page20/?q=python+парсинг&target_type=posts&flow=&order_by=relevance',\n",
       " 'https://habr.com/ru/search/page21/?q=python+парсинг&target_type=posts&flow=&order_by=relevance',\n",
       " 'https://habr.com/ru/search/page22/?q=python+парсинг&target_type=posts&flow=&order_by=relevance',\n",
       " 'https://habr.com/ru/search/page23/?q=python+парсинг&target_type=posts&flow=&order_by=relevance',\n",
       " 'https://habr.com/ru/search/page24/?q=python+парсинг&target_type=posts&flow=&order_by=relevance',\n",
       " 'https://habr.com/ru/search/page25/?q=python+парсинг&target_type=posts&flow=&order_by=relevance',\n",
       " 'https://habr.com/ru/search/page26/?q=python+парсинг&target_type=posts&flow=&order_by=relevance',\n",
       " 'https://habr.com/ru/search/page27/?q=python+парсинг&target_type=posts&flow=&order_by=relevance',\n",
       " 'https://habr.com/ru/search/page28/?q=python+парсинг&target_type=posts&flow=&order_by=relevance',\n",
       " 'https://habr.com/ru/search/page29/?q=python+парсинг&target_type=posts&flow=&order_by=relevance',\n",
       " 'https://habr.com/ru/search/page30/?q=python+парсинг&target_type=posts&flow=&order_by=relevance',\n",
       " 'https://habr.com/ru/search/page31/?q=python+парсинг&target_type=posts&flow=&order_by=relevance',\n",
       " 'https://habr.com/ru/search/page32/?q=python+парсинг&target_type=posts&flow=&order_by=relevance']"
      ]
     },
     "execution_count": 37,
     "metadata": {},
     "output_type": "execute_result"
    }
   ],
   "source": [
    "counter_class = \"tabs-menu__item-counter tabs-menu__item-counter_total\"\n",
    "counter = soup.find_all('span', class_=counter_class)[0]\n",
    "pub_count = int(counter.text)\n",
    "\n",
    "pages = pub_count // 20 + 1 if pub_count % 20 != 0 else int(pub_count / 20)\n",
    "pages_url = [url.replace('page1', 'page{}'.format(x)) for x in range(1, pages+1)]\n",
    "pages_url"
   ]
  },
  {
   "cell_type": "code",
   "execution_count": 45,
   "metadata": {},
   "outputs": [
    {
     "data": {
      "text/plain": [
       "631"
      ]
     },
     "execution_count": 45,
     "metadata": {},
     "output_type": "execute_result"
    }
   ],
   "source": [
    "from time import sleep\n",
    "post_info = {}\n",
    "\n",
    "for page_url in pages_url:\n",
    "    page_req = requests.get(page_url)\n",
    "    page_soup = BeautifulSoup(page_req.text, 'html.parser')\n",
    "    posts = page_soup.find_all('article', class_='post')\n",
    "    post\n",
    "\n",
    "    for post in posts:\n",
    "        post_id = post.parent.attrs.get('id')\n",
    "        # если идентификатор не найден, это что-то странное, пропускаем\n",
    "        if not post_id:\n",
    "            continue\n",
    "        post_id = int(post_id.split('_')[-1])\n",
    "        post_ids.append(post_id)\n",
    "len(post_ids)"
   ]
  },
  {
   "cell_type": "code",
   "execution_count": 53,
   "metadata": {},
   "outputs": [
    {
     "name": "stdout",
     "output_type": "stream",
     "text": [
      "https://habr.com/ru/post/121815/\n",
      "Парсинг на Pуthon. Как собрать архив Голубятен\n"
     ]
    }
   ],
   "source": [
    "for post_id in post_ids:\n",
    "    values = []\n",
    "    post_url = 'https://habr.com/ru/post/{}/'.format(str(post_id))\n",
    "    post_req = requests.get(post_url)\n",
    "    post_soup = BeautifulSoup(post_req.text, 'html.parser')\n",
    "    title = post_soup.find_all('span', class_=\"post__title-text\")[0].text\n",
    "    pub_time = post_soup.find_all('span', class_=\"post__time\")[0].text\n",
    "    \n",
    "    "
   ]
  },
  {
   "cell_type": "code",
   "execution_count": null,
   "metadata": {},
   "outputs": [],
   "source": []
  }
 ],
 "metadata": {
  "kernelspec": {
   "display_name": "Python 3",
   "language": "python",
   "name": "python3"
  },
  "language_info": {
   "codemirror_mode": {
    "name": "ipython",
    "version": 3
   },
   "file_extension": ".py",
   "mimetype": "text/x-python",
   "name": "python",
   "nbconvert_exporter": "python",
   "pygments_lexer": "ipython3",
   "version": "3.8.3"
  }
 },
 "nbformat": 4,
 "nbformat_minor": 4
}
