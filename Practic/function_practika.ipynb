{
 "cells": [
  {
   "cell_type": "markdown",
   "metadata": {},
   "source": [
    "Вы работаете секретарем и вам постоянно приходят различные документы. Вы должны быть очень внимательны, чтобы не потерять ни один документ. Каталог документов хранится в следующем виде:"
   ]
  },
  {
   "cell_type": "code",
   "execution_count": 1,
   "metadata": {},
   "outputs": [],
   "source": [
    "documents = [\n",
    "    {'type': 'passport', 'number': '2207 876234', 'name': 'Василий Гупкин'},\n",
    "    {'type': 'invoice', 'number': '11-2', 'name': 'Геннадий Покемонов'},\n",
    "    {'type': 'insurance', 'number': '10006', 'name': 'Аристарх Павлов'}\n",
    "]"
   ]
  },
  {
   "cell_type": "code",
   "execution_count": 41,
   "metadata": {
    "tags": []
   },
   "outputs": [
    {
     "output_type": "stream",
     "name": "stdout",
     "text": "passport \"2207 876234\" \"Василий Гупкин\"\ninvoice \"11-2\" \"Геннадий Покемонов\"\ninsurance \"10006\" \"Аристарх Павлов\"\n"
    }
   ],
   "source": [
    "def print_documents():\n",
    "    for doc in documents:\n",
    "        print('{} \"{}\" \"{}\"'.format(doc['type'], doc['number'], doc['name']))\n",
    "print_documents()"
   ]
  },
  {
   "cell_type": "markdown",
   "metadata": {},
   "source": [
    "Перечень полок, на которых находятся документы хранится в следующем виде:"
   ]
  },
  {
   "cell_type": "code",
   "execution_count": 3,
   "metadata": {},
   "outputs": [],
   "source": [
    "directories = {\n",
    "    '1': ['2207 876234', '11-2'],\n",
    "    '2': ['10006'],\n",
    "    '3': []\n",
    "}"
   ]
  },
  {
   "cell_type": "code",
   "execution_count": 4,
   "metadata": {
    "tags": []
   },
   "outputs": [
    {
     "output_type": "stream",
     "name": "stdout",
     "text": "1: ['2207 876234', '11-2']\n2: ['10006']\n3: []\n"
    }
   ],
   "source": [
    "def print_directories():\n",
    "    for num, dir in directories.items():\n",
    "        print('{}: {}'.format(num, dir))\n",
    "print_directories()"
   ]
  },
  {
   "cell_type": "markdown",
   "metadata": {},
   "source": [
    "Необходимо реализовать пользовательские команды (внимание! это не название функций, которые должны быть выразительными, а команды, которые вводит пользователь, чтобы получить необходимый результат):\n",
    "\n",
    "* p – people – команда, которая спросит номер документа и выведет имя человека, которому он принадлежит;\n",
    "* s – shelf – команда, которая спросит номер документа и выведет номер полки, на которой он находится\n",
    "Правильно обработайте ситуации, когда пользователь будет вводить несуществующий документ.\n",
    "* l – list – команда, которая выведет список всех документов в формате\n",
    "**passport \"2207 876234\" \"Василий Гупкин\"**\n",
    "* as – add shelf – команда, которая спросит номер новой полки и добавит ее в перечень. Предусмотрите случай, когда пользователь добавляет полку, которая уже существует.\n",
    "* d – delete – команда, которая спросит номер документа и удалит его из каталога и из перечня полок. Предусмотрите сценарий, когда пользователь вводит несуществующий документ;\n",
    "* m – move – команда, которая спросит номер документа и целевую полку и переместит его с текущей полки на целевую. Корректно обработайте кейсы, когда пользователь пытается переместить несуществующий документ или переместить документ на несуществующую полку;\n",
    "*  add – команда, которая добавит новый документ в каталог и в перечень полок, спросив его номер, тип, имя владельца и номер полки, на котором он будет храниться. Корректно обработайте ситуацию, когда пользователь будет пытаться добавить документ на несуществующую полку."
   ]
  },
  {
   "cell_type": "code",
   "execution_count": 5,
   "metadata": {},
   "outputs": [],
   "source": [
    "def show_author():\n",
    "    num = input('Введите номер документа: ')\n",
    "    for doc in documents:\n",
    "        if num == doc['number']:\n",
    "            print('Автор:',doc['name'])\n",
    "            return True\n",
    "    print('Не найдено.\\n')\n"
   ]
  },
  {
   "cell_type": "code",
   "execution_count": 6,
   "metadata": {},
   "outputs": [],
   "source": [
    "def is_doc_exists(num):\n",
    "    for doc in documents:\n",
    "        if num == doc['number']:\n",
    "            return True\n",
    "    return False"
   ]
  },
  {
   "cell_type": "code",
   "execution_count": 49,
   "metadata": {
    "tags": []
   },
   "outputs": [],
   "source": [
    "def is_in_shelf():\n",
    "    doc = input('Введите номер документа: ')\n",
    "    if not is_doc_exists(doc):\n",
    "        print('Документ не найден')\n",
    "        return False\n",
    "    for num, shelf in directories.items():\n",
    "        if doc in shelf:\n",
    "            print('Документ находится на полке №' + num)\n",
    "            return \n",
    "    print('На полках нет такого документа')\n",
    "#is_in_shelf()"
   ]
  },
  {
   "cell_type": "code",
   "execution_count": 8,
   "metadata": {},
   "outputs": [],
   "source": [
    "def return_shelf(doc):\n",
    "    for num, shelf in directories.items():\n",
    "        if doc in shelf:\n",
    "            return num\n",
    "    print('Документ в полках не найден')\n",
    "    return False"
   ]
  },
  {
   "cell_type": "code",
   "execution_count": 9,
   "metadata": {
    "tags": []
   },
   "outputs": [
    {
     "output_type": "error",
     "ename": "ValueError",
     "evalue": "invalid literal for int() with base 10: ''",
     "traceback": [
      "\u001b[1;31m---------------------------------------------------------------------------\u001b[0m",
      "\u001b[1;31mValueError\u001b[0m                                Traceback (most recent call last)",
      "\u001b[1;32m<ipython-input-9-e34310d89271>\u001b[0m in \u001b[0;36m<module>\u001b[1;34m\u001b[0m\n\u001b[0;32m      6\u001b[0m     \u001b[0mprint\u001b[0m\u001b[1;33m(\u001b[0m\u001b[1;34m'Успешно добавлено. Обновленная директория:'\u001b[0m\u001b[1;33m)\u001b[0m\u001b[1;33m\u001b[0m\u001b[1;33m\u001b[0m\u001b[0m\n\u001b[0;32m      7\u001b[0m     \u001b[0mprint\u001b[0m\u001b[1;33m(\u001b[0m\u001b[0mdirectories\u001b[0m\u001b[1;33m)\u001b[0m\u001b[1;33m\u001b[0m\u001b[1;33m\u001b[0m\u001b[0m\n\u001b[1;32m----> 8\u001b[1;33m \u001b[0madd_shelf\u001b[0m\u001b[1;33m(\u001b[0m\u001b[1;33m)\u001b[0m\u001b[1;33m\u001b[0m\u001b[1;33m\u001b[0m\u001b[0m\n\u001b[0m",
      "\u001b[1;32m<ipython-input-9-e34310d89271>\u001b[0m in \u001b[0;36madd_shelf\u001b[1;34m()\u001b[0m\n\u001b[0;32m      1\u001b[0m \u001b[1;32mdef\u001b[0m \u001b[0madd_shelf\u001b[0m\u001b[1;33m(\u001b[0m\u001b[1;33m)\u001b[0m\u001b[1;33m:\u001b[0m\u001b[1;33m\u001b[0m\u001b[1;33m\u001b[0m\u001b[0m\n\u001b[1;32m----> 2\u001b[1;33m     \u001b[0mnum\u001b[0m \u001b[1;33m=\u001b[0m \u001b[0mabs\u001b[0m\u001b[1;33m(\u001b[0m\u001b[0mint\u001b[0m\u001b[1;33m(\u001b[0m\u001b[0minput\u001b[0m\u001b[1;33m(\u001b[0m\u001b[1;34m'Введите номер полки: '\u001b[0m\u001b[1;33m)\u001b[0m\u001b[1;33m)\u001b[0m\u001b[1;33m)\u001b[0m\u001b[1;33m\u001b[0m\u001b[1;33m\u001b[0m\u001b[0m\n\u001b[0m\u001b[0;32m      3\u001b[0m     \u001b[1;32mif\u001b[0m \u001b[0mnum\u001b[0m \u001b[1;32min\u001b[0m \u001b[0mdirectories\u001b[0m\u001b[1;33m.\u001b[0m\u001b[0mkeys\u001b[0m\u001b[1;33m(\u001b[0m\u001b[1;33m)\u001b[0m\u001b[1;33m:\u001b[0m\u001b[1;33m\u001b[0m\u001b[1;33m\u001b[0m\u001b[0m\n\u001b[0;32m      4\u001b[0m         \u001b[0mprint\u001b[0m\u001b[1;33m(\u001b[0m\u001b[1;34m'Полка уже существует'\u001b[0m\u001b[1;33m)\u001b[0m\u001b[1;33m\u001b[0m\u001b[1;33m\u001b[0m\u001b[0m\n\u001b[0;32m      5\u001b[0m     \u001b[0mdirectories\u001b[0m\u001b[1;33m[\u001b[0m\u001b[0mstr\u001b[0m\u001b[1;33m(\u001b[0m\u001b[0mnum\u001b[0m\u001b[1;33m)\u001b[0m\u001b[1;33m]\u001b[0m \u001b[1;33m=\u001b[0m \u001b[1;33m[\u001b[0m\u001b[1;33m]\u001b[0m\u001b[1;33m\u001b[0m\u001b[1;33m\u001b[0m\u001b[0m\n",
      "\u001b[1;31mValueError\u001b[0m: invalid literal for int() with base 10: ''"
     ]
    }
   ],
   "source": [
    "def add_shelf():\n",
    "    num = abs(int(input('Введите номер полки: ')))\n",
    "    if num in directories.keys():\n",
    "        print('Полка уже существует')\n",
    "    directories[str(num)] = []\n",
    "    print('Успешно добавлено. Обновленная директория:')\n",
    "    print(directories)\n",
    "add_shelf()"
   ]
  },
  {
   "cell_type": "code",
   "execution_count": 10,
   "metadata": {
    "tags": []
   },
   "outputs": [
    {
     "output_type": "stream",
     "name": "stdout",
     "text": "Документ не найден\n"
    },
    {
     "output_type": "execute_result",
     "data": {
      "text/plain": "False"
     },
     "metadata": {},
     "execution_count": 10
    }
   ],
   "source": [
    "def delete_doc():\n",
    "    num = input('Введите номер документа для удаления: ')\n",
    "    for doc in documents:\n",
    "        if num == doc['number']:\n",
    "            documents.remove(doc)\n",
    "            print('Документ №{} успешно удалена'.format(num))\n",
    "            print('Список документов:')\n",
    "            print_documents(documents)\n",
    "            return True\n",
    "    print('Документ не найден')\n",
    "    return False\n",
    "delete_doc()\n"
   ]
  },
  {
   "cell_type": "code",
   "execution_count": 11,
   "metadata": {
    "tags": []
   },
   "outputs": [
    {
     "output_type": "stream",
     "name": "stdout",
     "text": "Документ не найден\n"
    },
    {
     "output_type": "execute_result",
     "data": {
      "text/plain": "False"
     },
     "metadata": {},
     "execution_count": 11
    }
   ],
   "source": [
    "def move_to_shelf():\n",
    "    doc = input('Введите номер документа: ')\n",
    "    if not is_doc_exists(doc):\n",
    "        print('Документ не найден')\n",
    "        return False\n",
    "    new_shelf = input('Введите номер полки: ')\n",
    "    if not new_shelf in directories.keys():\n",
    "        print('Полка не найдена')\n",
    "        return False\n",
    "    old_shelf = return_shelf(doc)\n",
    "    if old_shelf:\n",
    "        directories[new_shelf].append(doc)\n",
    "        directories[old_shelf].remove(doc)\n",
    "        print('Операция прошла успешно. Полки:')\n",
    "        print_directories()\n",
    "    else:\n",
    "        print('Операция прошла неудачно')\n",
    "move_to_shelf()\n",
    "    "
   ]
  },
  {
   "cell_type": "code",
   "execution_count": 12,
   "metadata": {
    "tags": []
   },
   "outputs": [
    {
     "output_type": "error",
     "ename": "ValueError",
     "evalue": "invalid literal for int() with base 10: ''",
     "traceback": [
      "\u001b[1;31m---------------------------------------------------------------------------\u001b[0m",
      "\u001b[1;31mValueError\u001b[0m                                Traceback (most recent call last)",
      "\u001b[1;32m<ipython-input-12-f886390f8072>\u001b[0m in \u001b[0;36m<module>\u001b[1;34m\u001b[0m\n\u001b[0;32m     15\u001b[0m     \u001b[0mprint\u001b[0m\u001b[1;33m(\u001b[0m\u001b[1;33m)\u001b[0m\u001b[1;33m\u001b[0m\u001b[1;33m\u001b[0m\u001b[0m\n\u001b[0;32m     16\u001b[0m     \u001b[0mprint_directories\u001b[0m\u001b[1;33m(\u001b[0m\u001b[1;33m)\u001b[0m\u001b[1;33m\u001b[0m\u001b[1;33m\u001b[0m\u001b[0m\n\u001b[1;32m---> 17\u001b[1;33m \u001b[0madd_doc\u001b[0m\u001b[1;33m(\u001b[0m\u001b[1;33m)\u001b[0m\u001b[1;33m\u001b[0m\u001b[1;33m\u001b[0m\u001b[0m\n\u001b[0m",
      "\u001b[1;32m<ipython-input-12-f886390f8072>\u001b[0m in \u001b[0;36madd_doc\u001b[1;34m()\u001b[0m\n\u001b[0;32m      5\u001b[0m         \u001b[0mprint\u001b[0m\u001b[1;33m(\u001b[0m\u001b[1;34m'Документ с таким номером уже существует'\u001b[0m\u001b[1;33m)\u001b[0m\u001b[1;33m\u001b[0m\u001b[1;33m\u001b[0m\u001b[0m\n\u001b[0;32m      6\u001b[0m         \u001b[1;32mreturn\u001b[0m\u001b[1;33m\u001b[0m\u001b[1;33m\u001b[0m\u001b[0m\n\u001b[1;32m----> 7\u001b[1;33m     \u001b[0mshelf\u001b[0m \u001b[1;33m=\u001b[0m \u001b[0mstr\u001b[0m\u001b[1;33m(\u001b[0m\u001b[0mint\u001b[0m\u001b[1;33m(\u001b[0m\u001b[0minput\u001b[0m\u001b[1;33m(\u001b[0m\u001b[1;34m'Введите полку для документа'\u001b[0m\u001b[1;33m)\u001b[0m\u001b[1;33m)\u001b[0m\u001b[1;33m)\u001b[0m\u001b[1;33m\u001b[0m\u001b[1;33m\u001b[0m\u001b[0m\n\u001b[0m\u001b[0;32m      8\u001b[0m     \u001b[1;32mif\u001b[0m \u001b[1;32mnot\u001b[0m \u001b[0mshelf\u001b[0m \u001b[1;32min\u001b[0m \u001b[0mdirectories\u001b[0m\u001b[1;33m:\u001b[0m\u001b[1;33m\u001b[0m\u001b[1;33m\u001b[0m\u001b[0m\n\u001b[0;32m      9\u001b[0m         \u001b[0mprint\u001b[0m\u001b[1;33m(\u001b[0m\u001b[1;34m'Полки не найдено'\u001b[0m\u001b[1;33m)\u001b[0m\u001b[1;33m\u001b[0m\u001b[1;33m\u001b[0m\u001b[0m\n",
      "\u001b[1;31mValueError\u001b[0m: invalid literal for int() with base 10: ''"
     ]
    }
   ],
   "source": [
    "def add_doc():\n",
    "    credentials = ['тип', 'номер', 'автора', 'name', 'number', 'type']\n",
    "    doc = {credentials[-i]: input('Введите {} документа'.format(credentials[i-1])) for i in range(1,4)}\n",
    "    if is_doc_exists(doc['number']):\n",
    "        print('Документ с таким номером уже существует')\n",
    "        return\n",
    "    shelf = str(int(input('Введите полку для документа')))\n",
    "    if not shelf in directories:\n",
    "        print('Полки не найдено')\n",
    "        return\n",
    "    documents.append(doc)\n",
    "    directories[shelf].append(doc['number'])\n",
    "    print('Успешно добавлено: ' + str(doc) + '\\n')\n",
    "    print_documents(documents)\n",
    "    print()\n",
    "    print_directories()\n",
    "add_doc()"
   ]
  },
  {
   "cell_type": "code",
   "execution_count": 55,
   "metadata": {},
   "outputs": [],
   "source": [
    "command_list = {\n",
    "    'p': [show_author, 'Поиск автора...'],\n",
    "    's': [is_in_shelf, 'Поиск полки...'],\n",
    "    'l': [print_documents, 'Вывод все доков...'],\n",
    "    'as': [add_shelf, 'Добавление полки...'],\n",
    "    'm': [move_to_shelf, 'Перемещение в полку...'],\n",
    "    'd': [delete_doc, 'Удаление документа...'],\n",
    "    'add': [add_doc, 'Добавление документа...'],\n",
    "    'h': [help_me, 'Помощь'],\n",
    "}"
   ]
  },
  {
   "cell_type": "code",
   "execution_count": 22,
   "metadata": {},
   "outputs": [],
   "source": [
    "command_help = {\n",
    "    'h': 'помощь',\n",
    "    'p': 'запрашивает номер документа и показывает автора документа',\n",
    "    's': 'запрашивает номер документа и показывает полку, в котором лежит документ',\n",
    "    'l': 'выводит список документов',\n",
    "    'as': 'запрашивает номер новой полки и создает полку с этим номером',\n",
    "    'm': 'запрашивает номер документа и номер новой полки, переводит документ на новую полку',\n",
    "    'd':  'удаляет документ по номеру',\n",
    "    'add': 'добавляет документ',\n",
    "}\n",
    "\n",
    "def help_me():\n",
    "    for c, definition in command_help.items():\n",
    "        print('\"{}\" - {}'.format(c, definition))\n",
    "    print()"
   ]
  },
  {
   "cell_type": "code",
   "execution_count": 56,
   "metadata": {
    "tags": []
   },
   "outputs": [
    {
     "output_type": "stream",
     "name": "stdout",
     "text": "Добро пожаловать на модуль \"Документы\"!\nДоступны следующие команды:\n\"h\" - помощь\n\"p\" - запрашивает номер документа и показывает автора документа\n\"s\" - запрашивает номер документа и показывает полку, в котором лежит документ\n\"l\" - выводит список документов\n\"as\" - запрашивает номер новой полки и создает полку с этим номером\n\"m\" - запрашивает номер документа и номер новой полки, переводит документ на новую полку\n\"d\" - удаляет документ по номеру\n\"add\" - добавляет документ\n\nПомощь\n---------------\n\"h\" - помощь\n\"p\" - запрашивает номер документа и показывает автора документа\n\"s\" - запрашивает номер документа и показывает полку, в котором лежит документ\n\"l\" - выводит список документов\n\"as\" - запрашивает номер новой полки и создает полку с этим номером\n\"m\" - запрашивает номер документа и номер новой полки, переводит документ на новую полку\n\"d\" - удаляет документ по номеру\n\"add\" - добавляет документ\n\n\nПоиск автора...\n---------------\nАвтор: Геннадий Покемонов\n\n"
    }
   ],
   "source": [
    "print('Добро пожаловать на модуль \"Документы\"!')\n",
    "print('Доступны следующие команды:')\n",
    "help_me()\n",
    "\n",
    "while True:\n",
    "    command = input('комманда ->')\n",
    "    if command == 'q':\n",
    "        break\n",
    "    if not command in command_list.keys():\n",
    "        print('\"{}\" не является командой этого модуля'.format(command))\n",
    "    print(command_list[command][1])\n",
    "    print('---------------')\n",
    "    command_list[command][0]()\n",
    "    print()"
   ]
  },
  {
   "cell_type": "code",
   "execution_count": 29,
   "metadata": {},
   "outputs": [
    {
     "output_type": "execute_result",
     "data": {
      "text/plain": "<function __main__.show_author()>"
     },
     "metadata": {},
     "execution_count": 29
    }
   ],
   "source": [
    "command_list['p']"
   ]
  },
  {
   "cell_type": "code",
   "execution_count": null,
   "metadata": {},
   "outputs": [],
   "source": []
  }
 ],
 "metadata": {
  "kernelspec": {
   "display_name": "Python 3.8.0 32-bit",
   "language": "python",
   "name": "python_defaultSpec_1600407599302"
  },
  "language_info": {
   "codemirror_mode": {
    "name": "ipython",
    "version": 3
   },
   "file_extension": ".py",
   "mimetype": "text/x-python",
   "name": "python",
   "nbconvert_exporter": "python",
   "pygments_lexer": "ipython3",
   "version": "3.8.0-final"
  }
 },
 "nbformat": 4,
 "nbformat_minor": 4
}